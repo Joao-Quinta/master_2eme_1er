{
 "cells": [
  {
   "cell_type": "code",
   "execution_count": 1,
   "metadata": {},
   "outputs": [],
   "source": [
    "import torch"
   ]
  },
  {
   "cell_type": "code",
   "execution_count": 2,
   "metadata": {},
   "outputs": [
    {
     "data": {
      "text/plain": [
       "11.25"
      ]
     },
     "execution_count": 2,
     "metadata": {},
     "output_type": "execute_result"
    }
   ],
   "source": [
    "x = torch.empty(2,5)# 2 rows, 5 columns!!!!\n",
    "x.size()\n",
    "x.fill_(1.125)#put 1.125 everywhere \n",
    "#--> the underscore in the function name tells us that the fill function changes the value in the tensor\n",
    "y = x.mean() #is a tensor of dim = 0\n",
    "x.std()\n",
    "x.sum()\n",
    "x.sum().item()#returns value of tensor (.sum() returns a scalar tensor, so a tensor of dim = 0)"
   ]
  },
  {
   "cell_type": "code",
   "execution_count": 25,
   "metadata": {},
   "outputs": [
    {
     "data": {
      "text/plain": [
       "tensor([[[-0.4128, -0.3185, -0.8973],\n",
       "         [ 0.6671,  1.3512,  2.2935],\n",
       "         [-0.4022, -0.7648,  0.1047],\n",
       "         [-0.6007, -1.1779, -0.5554]],\n",
       "\n",
       "        [[-1.2985, -1.9517,  1.4775],\n",
       "         [ 2.1233,  0.4619, -1.0447],\n",
       "         [ 0.6967,  1.1220, -0.4369],\n",
       "         [-0.2589, -1.6207,  0.5889]]])"
      ]
     },
     "execution_count": 25,
     "metadata": {},
     "output_type": "execute_result"
    }
   ],
   "source": [
    "x = torch.empty(2,4,3)\n",
    "x.normal_(0.0, 1)"
   ]
  },
  {
   "cell_type": "code",
   "execution_count": 26,
   "metadata": {},
   "outputs": [
    {
     "data": {
      "text/plain": [
       "torch.Size([2, 4, 3])"
      ]
     },
     "execution_count": 26,
     "metadata": {},
     "output_type": "execute_result"
    }
   ],
   "source": [
    "x.size()"
   ]
  },
  {
   "cell_type": "code",
   "execution_count": 27,
   "metadata": {},
   "outputs": [],
   "source": [
    "x = x.view(-1)"
   ]
  },
  {
   "cell_type": "code",
   "execution_count": 28,
   "metadata": {},
   "outputs": [
    {
     "data": {
      "text/plain": [
       "torch.Size([24])"
      ]
     },
     "execution_count": 28,
     "metadata": {},
     "output_type": "execute_result"
    }
   ],
   "source": [
    "x.size()"
   ]
  },
  {
   "cell_type": "code",
   "execution_count": 29,
   "metadata": {},
   "outputs": [
    {
     "data": {
      "text/plain": [
       "tensor([-0.4128, -0.3185, -0.8973,  0.6671,  1.3512,  2.2935, -0.4022, -0.7648,\n",
       "         0.1047, -0.6007, -1.1779, -0.5554, -1.2985, -1.9517,  1.4775,  2.1233,\n",
       "         0.4619, -1.0447,  0.6967,  1.1220, -0.4369, -0.2589, -1.6207,  0.5889])"
      ]
     },
     "execution_count": 29,
     "metadata": {},
     "output_type": "execute_result"
    }
   ],
   "source": [
    "x"
   ]
  },
  {
   "cell_type": "code",
   "execution_count": 31,
   "metadata": {},
   "outputs": [
    {
     "data": {
      "text/plain": [
       "tensor([[-1.9252,  0.7870, -0.2167],\n",
       "        [ 0.0370,  1.3609,  0.6323]])"
      ]
     },
     "execution_count": 31,
     "metadata": {},
     "output_type": "execute_result"
    }
   ],
   "source": [
    "x = torch.empty(2,3)\n",
    "x.normal_(0.0, 1)"
   ]
  },
  {
   "cell_type": "code",
   "execution_count": 32,
   "metadata": {},
   "outputs": [
    {
     "data": {
      "text/plain": [
       "tensor([[[-1.9252,  0.7870, -0.2167],\n",
       "         [ 0.0370,  1.3609,  0.6323]]])"
      ]
     },
     "execution_count": 32,
     "metadata": {},
     "output_type": "execute_result"
    }
   ],
   "source": [
    "x.view(1,2,3)"
   ]
  },
  {
   "cell_type": "code",
   "execution_count": 34,
   "metadata": {},
   "outputs": [
    {
     "data": {
      "text/plain": [
       "tensor([[[-1.9252,  0.7870, -0.2167],\n",
       "         [ 0.0370,  1.3609,  0.6323]],\n",
       "\n",
       "        [[-1.9252,  0.7870, -0.2167],\n",
       "         [ 0.0370,  1.3609,  0.6323]],\n",
       "\n",
       "        [[-1.9252,  0.7870, -0.2167],\n",
       "         [ 0.0370,  1.3609,  0.6323]]])"
      ]
     },
     "execution_count": 34,
     "metadata": {},
     "output_type": "execute_result"
    }
   ],
   "source": [
    "x.expand(3,2,3)"
   ]
  },
  {
   "cell_type": "code",
   "execution_count": null,
   "metadata": {},
   "outputs": [],
   "source": []
  }
 ],
 "metadata": {
  "kernelspec": {
   "display_name": "Python 3 (ipykernel)",
   "language": "python",
   "name": "python3"
  },
  "language_info": {
   "codemirror_mode": {
    "name": "ipython",
    "version": 3
   },
   "file_extension": ".py",
   "mimetype": "text/x-python",
   "name": "python",
   "nbconvert_exporter": "python",
   "pygments_lexer": "ipython3",
   "version": "3.7.15"
  },
  "vscode": {
   "interpreter": {
    "hash": "6290ab70aa2c9e6859d722745d4fdeafb895ca1190e93c7ac9c8d926153eb965"
   }
  }
 },
 "nbformat": 4,
 "nbformat_minor": 2
}
