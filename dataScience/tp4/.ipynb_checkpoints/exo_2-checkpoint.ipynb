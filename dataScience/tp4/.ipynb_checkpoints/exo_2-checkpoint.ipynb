{
 "cells": [
  {
   "cell_type": "code",
   "execution_count": 17,
   "metadata": {},
   "outputs": [],
   "source": [
    "import numpy as np\n",
    "import time\n",
    "from matplotlib import pyplot as plt"
   ]
  },
  {
   "cell_type": "code",
   "execution_count": 2,
   "metadata": {},
   "outputs": [],
   "source": [
    "def fill(s):\n",
    "    while len(s) < 5:\n",
    "        s = '0'+ s\n",
    "    return s\n",
    "\n",
    "def convert_to_b(w):\n",
    "    return dic1[w]\n",
    "\n",
    "def convert_to_w(b):\n",
    "    return dic2[b]\n",
    "\n",
    "def flip_bit(b):\n",
    "    if b == '1':\n",
    "        return '0'\n",
    "    return '1'\n",
    "\n",
    "def BSC(m, e):\n",
    "    m = list(m)\n",
    "    for i in range(len(m)):\n",
    "        if np.random.random() < e:\n",
    "            m[i] = flip_bit(m[i])\n",
    "    return ''.join(m)\n",
    "\n",
    "def count_diff(m1,m2):\n",
    "    d = 0\n",
    "    for i in range(len(m1)):\n",
    "        if m1[i] != m2[i]:\n",
    "            d = d + 1\n",
    "    return d\n",
    "\n",
    "def multiply_message(m,t):# multiply message m, t times\n",
    "    m_ = ''\n",
    "    for i in range(len(m)):\n",
    "        for _ in range(t):\n",
    "            m_ = m_ + m[i]\n",
    "    return m_\n",
    "\n",
    "def compute_avg(m):# computes majority vote of substring\n",
    "    c_0 = 0\n",
    "    c_1 = 1\n",
    "    for i in m:\n",
    "        if i == '0':\n",
    "            c_0 = c_0 + 1\n",
    "        else:\n",
    "            c_1 = c_1 + 1\n",
    "    if c_0 > c_1:\n",
    "        return '0'\n",
    "    return '1'\n",
    "    \n",
    "def recreate_mltiplied_message(m,t):# computes message from multiplied trasnmited message\n",
    "    i = 0\n",
    "    m_r = ''\n",
    "    while i < len(m):\n",
    "        m_r = m_r + compute_avg(m[i:i+t])\n",
    "        i = i + t\n",
    "    return m_r\n",
    "\n",
    "def exercice_2(m,t):\n",
    "    start = time.time()\n",
    "    m_1 = multiply_message(m,t)\n",
    "    m_2 = BSC(m_1, 0.1)\n",
    "    m_3 = recreate_mltiplied_message(m_2, t)\n",
    "    end = time.time() - start\n",
    "    message_m_l = []\n",
    "    i = 0\n",
    "    while i < len(m_3):\n",
    "        message_m_l.append(convert_to_w(m_3[i:i+5]))\n",
    "        i = i + 5\n",
    "    return message_m_l, end"
   ]
  },
  {
   "cell_type": "markdown",
   "metadata": {},
   "source": [
    "2 dictionaries: \n",
    " \n",
    "1st with keys that represent words, and values their binary representation of words \n",
    "\n",
    "2dn with keys that represnet binary representation of words , and value the word"
   ]
  },
  {
   "cell_type": "code",
   "execution_count": 3,
   "metadata": {},
   "outputs": [],
   "source": [
    "# generate alphabet or 32 words, with their binary representation\n",
    "alphabet = 32\n",
    "dic1 = {}\n",
    "dic2 = {}\n",
    "for i in range(alphabet):\n",
    "    a = str(i)\n",
    "    b = fill(bin(i)[2:])\n",
    "    dic1[a] = b\n",
    "    dic2[b] = a"
   ]
  },
  {
   "cell_type": "markdown",
   "metadata": {},
   "source": [
    "# generate message of 1000 random words"
   ]
  },
  {
   "cell_type": "code",
   "execution_count": 4,
   "metadata": {},
   "outputs": [
    {
     "name": "stdout",
     "output_type": "stream",
     "text": [
      "1000\n",
      "5000\n"
     ]
    }
   ],
   "source": [
    "# generate string of 1000 words\n",
    "t_message = 1000\n",
    "message = []\n",
    "message_b = ''\n",
    "for i in range(t_message):\n",
    "    word = str(np.random.randint(0, len(dic1.keys())))\n",
    "    message.append(word)\n",
    "    message_b = message_b + convert_to_b(word)\n",
    "print(len(message))\n",
    "print(len(message_b))"
   ]
  },
  {
   "cell_type": "code",
   "execution_count": 5,
   "metadata": {},
   "outputs": [
    {
     "name": "stdout",
     "output_type": "stream",
     "text": [
      "5000\n",
      "448 errors ->  0.0896 %\n"
     ]
    }
   ],
   "source": [
    "# compute message sent through 0.1 prob error rate channel\n",
    "message_b_e = BSC(message_b, 0.1)\n",
    "print(len(message_b_e))\n",
    "e_ = count_diff(message_b,message_b_e)\n",
    "print(e_,\"errors -> \", e_/len(message_b_e), \"%\")"
   ]
  },
  {
   "cell_type": "markdown",
   "metadata": {},
   "source": [
    "### 1: amount of wrong words in message"
   ]
  },
  {
   "cell_type": "code",
   "execution_count": 6,
   "metadata": {},
   "outputs": [],
   "source": [
    "message_e = []\n",
    "i = 0\n",
    "while i < len(message_b_e):\n",
    "    message_e.append(convert_to_w(message_b_e[i:i+5]))\n",
    "    i = i + 5"
   ]
  },
  {
   "cell_type": "code",
   "execution_count": 7,
   "metadata": {},
   "outputs": [
    {
     "name": "stdout",
     "output_type": "stream",
     "text": [
      "386 wrong words\n"
     ]
    }
   ],
   "source": [
    "error = count_diff(message,message_e)\n",
    "print(error, \"wrong words\")"
   ]
  },
  {
   "cell_type": "markdown",
   "metadata": {},
   "source": [
    "### 2: 'multiply' a message"
   ]
  },
  {
   "cell_type": "code",
   "execution_count": 8,
   "metadata": {},
   "outputs": [],
   "source": [
    "message_b_3 = multiply_message(message_b,3)\n",
    "message_b_3_e = BSC(message_b_3, 0.1)\n",
    "message_b_3_e = recreate_mltiplied_message(message_b_3_e, 3)"
   ]
  },
  {
   "cell_type": "code",
   "execution_count": 9,
   "metadata": {},
   "outputs": [],
   "source": [
    "message_m_e = []\n",
    "i = 0\n",
    "while i < len(message_b_3_e):\n",
    "    message_m_e.append(convert_to_w(message_b_3_e[i:i+5]))\n",
    "    i = i + 5"
   ]
  },
  {
   "cell_type": "code",
   "execution_count": 10,
   "metadata": {},
   "outputs": [
    {
     "name": "stdout",
     "output_type": "stream",
     "text": [
      "521 wrong words\n"
     ]
    }
   ],
   "source": [
    "error = count_diff(message,message_m_e)\n",
    "print(error, \"wrong words\")"
   ]
  },
  {
   "cell_type": "markdown",
   "metadata": {},
   "source": [
    "### 3: do exercice 2, with different values (5,11,23)"
   ]
  },
  {
   "cell_type": "code",
   "execution_count": 11,
   "metadata": {},
   "outputs": [],
   "source": [
    "rates = [3,5,11,23]\n",
    "res = []\n",
    "for i in rates:\n",
    "    message_res, _ = exercice_2(message_b, i)\n",
    "    res.append(count_diff(message,message_res))"
   ]
  },
  {
   "cell_type": "code",
   "execution_count": 12,
   "metadata": {},
   "outputs": [
    {
     "name": "stdout",
     "output_type": "stream",
     "text": [
      "[525, 169, 10, 0]\n"
     ]
    }
   ],
   "source": [
    "print(res)"
   ]
  },
  {
   "cell_type": "code",
   "execution_count": 18,
   "metadata": {},
   "outputs": [
    {
     "data": {
      "image/png": "[encoded data removed]",
      "text/plain": [
       "<Figure size 432x288 with 1 Axes>"
      ]
     },
     "metadata": {
      "needs_background": "light"
     },
     "output_type": "display_data"
    }
   ],
   "source": [
    "fig = plt.figure()\n",
    "ax = fig.add_subplot(111)\n",
    "ax.set_title('Words wrong per number of repetitions')\n",
    "\n",
    "# Setting X-axis and Y-axis labels\n",
    "ax.set_ylabel('number of wrong words')\n",
    "ax.set_xlabel('rates')\n",
    "plt.plot(rates, res, 'rx')\n",
    "# Showing the plot\n",
    "plt.show()"
   ]
  },
  {
   "cell_type": "markdown",
   "metadata": {},
   "source": [
    "### 4: do exercice 3, with time"
   ]
  },
  {
   "cell_type": "code",
   "execution_count": 13,
   "metadata": {},
   "outputs": [],
   "source": [
    "rates = [3,5,11,23]\n",
    "res = []\n",
    "time_ = []\n",
    "for i in rates:\n",
    "    message_res, t = exercice_2(message_b, i)\n",
    "    res.append(count_diff(message,message_res))\n",
    "    time_.append(t)"
   ]
  },
  {
   "cell_type": "code",
   "execution_count": 14,
   "metadata": {},
   "outputs": [
    {
     "name": "stdout",
     "output_type": "stream",
     "text": [
      "[528, 189, 8, 0]\n",
      "[0.012964725494384766, 0.020971298217773438, 0.04087185859680176, 0.07382965087890625]\n"
     ]
    }
   ],
   "source": [
    "print(res)\n",
    "print(time_)"
   ]
  },
  {
   "cell_type": "markdown",
   "metadata": {},
   "source": [
    "### 5: rate of communication"
   ]
  },
  {
   "cell_type": "code",
   "execution_count": 15,
   "metadata": {},
   "outputs": [],
   "source": [
    "R = np.log(32)/5"
   ]
  },
  {
   "cell_type": "code",
   "execution_count": 16,
   "metadata": {},
   "outputs": [
    {
     "name": "stdout",
     "output_type": "stream",
     "text": [
      "0.6931471805599453\n"
     ]
    }
   ],
   "source": [
    "print(R)"
   ]
  },
  {
   "cell_type": "code",
   "execution_count": null,
   "metadata": {},
   "outputs": [],
   "source": []
  }
 ],
 "metadata": {
  "kernelspec": {
   "display_name": "Python 3 (ipykernel)",
   "language": "python",
   "name": "python3"
  },
  "language_info": {
   "codemirror_mode": {
    "name": "ipython",
    "version": 3
   },
   "file_extension": ".py",
   "mimetype": "text/x-python",
   "name": "python",
   "nbconvert_exporter": "python",
   "pygments_lexer": "ipython3",
   "version": "3.9.12"
  },
  "vscode": {
   "interpreter": {
    "hash": "6290ab70aa2c9e6859d722745d4fdeafb895ca1190e93c7ac9c8d926153eb965"
   }
  }
 },
 "nbformat": 4,
 "nbformat_minor": 2
}
