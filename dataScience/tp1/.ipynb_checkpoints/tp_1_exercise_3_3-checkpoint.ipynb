{
 "cells": [
  {
   "cell_type": "code",
   "execution_count": 16,
   "id": "57d7dd00",
   "metadata": {},
   "outputs": [],
   "source": [
    "import numpy as np\n",
    "import matplotlib.pyplot as plt"
   ]
  },
  {
   "cell_type": "code",
   "execution_count": 21,
   "id": "cdfa6630",
   "metadata": {},
   "outputs": [],
   "source": [
    "# load data\n",
    "\n",
    "artificialdata_1 = np.load(\"data_tp1/tp1_artificialdata1.npz\")\n",
    "artificialdata_1 = artificialdata_1['data']\n",
    "artificialdata_2 = np.load(\"data_tp1/tp1_artificialdata2.npz\")\n",
    "artificialdata_2 = artificialdata_2['data']\n",
    "artificialdata_3 = np.load(\"data_tp1/tp1_artificialdata3.npz\")\n",
    "artificialdata_3 = artificialdata_3['data']\n",
    "artificialdata_4 = np.load(\"data_tp1/tp1_artificialdata4.npz\")\n",
    "artificialdata_4 = artificialdata_4['data']\n",
    "digit_data_2 = np.load(\"data_tp1/tp1_digit2.npz\")\n",
    "digit_data_2 = digit_data_2['data']\n",
    "frey_faces_data = np.load(\"data_tp1/tp1_freyfaces.npz\")\n",
    "frey_faces_data = frey_faces_data['data']"
   ]
  },
  {
   "cell_type": "code",
   "execution_count": 22,
   "id": "93cdb51d",
   "metadata": {},
   "outputs": [],
   "source": [
    "#compute cov\n",
    "\n",
    "artificialdata_1_cov = np.cov(artificialdata_1)\n",
    "artificialdata_2_cov = np.cov(artificialdata_2)\n",
    "artificialdata_3_cov = np.cov(artificialdata_3)\n",
    "artificialdata_4_cov = np.cov(artificialdata_4)\n",
    "digit_data_2_cov = np.cov(digit_data_2)\n",
    "frey_faces_data_cov = np.cov(frey_faces_data)"
   ]
  },
  {
   "cell_type": "code",
   "execution_count": null,
   "id": "0ddf2517",
   "metadata": {},
   "outputs": [],
   "source": [
    "#compute eigenvalues\n",
    "\n",
    "artificialdata_1_cov_eig = np.linalg.eig(artificialdata_1_cov)[0]\n",
    "artificialdata_2_cov_eig = np.linalg.eig(artificialdata_2_cov)[0]\n",
    "artificialdata_3_cov_eig = np.linalg.eig(artificialdata_3_cov)[0]\n",
    "artificialdata_4_cov_eig = np.linalg.eig(artificialdata_4_cov)[0]\n",
    "digit_data_2_cov_eig = np.linalg.eig(digit_data_2_cov)[0]\n",
    "frey_faces_data_cov_eig = np.linalg.eig(frey_faces_data_cov)[0]"
   ]
  },
  {
   "cell_type": "code",
   "execution_count": null,
   "id": "cb5d6d3f",
   "metadata": {
    "scrolled": true
   },
   "outputs": [],
   "source": [
    "#compute determinant of cov\n",
    "\n",
    "artificialdata_1_cov_det = np.linalg.det(artificialdata_1_cov)\n",
    "artificialdata_2_cov_det = np.linalg.det(artificialdata_2_cov)\n",
    "artificialdata_3_cov_det = np.linalg.det(artificialdata_3_cov)\n",
    "artificialdata_4_cov_det = np.linalg.det(artificialdata_4_cov)\n",
    "digit_data_2_cov_det = np.linalg.det(digit_data_2_cov)\n",
    "frey_faces_data_cov_det = np.linalg.det(frey_faces_data_cov)\n",
    "\n",
    "print(artificialdata_1_cov_det)\n",
    "print(artificialdata_2_cov_det)\n",
    "print(artificialdata_3_cov_det)\n",
    "print(artificialdata_4_cov_det)\n",
    "print(digit_data_2_cov_det)\n",
    "print(frey_faces_data_cov_det)"
   ]
  },
  {
   "cell_type": "code",
   "execution_count": null,
   "id": "28ec7610",
   "metadata": {
    "scrolled": false
   },
   "outputs": [],
   "source": [
    "#compute product of eigenvalues\n",
    "\n",
    "artificialdata_1_cov_eig_prod = np.prod(artificialdata_1_cov_eig)\n",
    "artificialdata_2_cov_eig_prod = np.prod(artificialdata_2_cov_eig)\n",
    "artificialdata_3_cov_eig_prod = np.prod(artificialdata_3_cov_eig)\n",
    "artificialdata_4_cov_eig_prod = np.prod(artificialdata_4_cov_eig)\n",
    "digit_data_2_cov_eig_prod = np.prod(digit_data_2_cov_eig)\n",
    "frey_faces_data_cov_eig_prod = np.prod(frey_faces_data_cov_eig)\n",
    "\n",
    "print(artificialdata_1_cov_eig_prod)\n",
    "print(artificialdata_2_cov_eig_prod)\n",
    "print(artificialdata_3_cov_eig_prod)\n",
    "print(artificialdata_4_cov_eig_prod)\n",
    "print(digit_data_2_cov_eig_prod)\n",
    "print(frey_faces_data_cov_eig_prod)"
   ]
  },
  {
   "cell_type": "code",
   "execution_count": null,
   "id": "ef8357e3",
   "metadata": {},
   "outputs": [],
   "source": [
    "# get the largest 100 eigenvalues\n",
    "\n",
    "# this function receives an array, and returns its 100 largest values, from largest to 100th largest\n",
    "def get_100_largest_vals_real(this_array):\n",
    "    this_array_sort = this_array.argsort()\n",
    "    this_array_sorted = this_array[this_array_sort]\n",
    "    this_array_sorted_100 = this_array_sorted[this_array_sorted.size - 100 :]\n",
    "    this_array_sorted_100_rev = this_array_sorted_100[::-1]\n",
    "    this_array_sorted_100_rev_real = this_array_sorted_100_rev.real\n",
    "    return this_array_sorted_100_rev_real\n",
    "\n",
    "\n",
    "artificialdata_1_cov_eig_100 = get_100_largest_vals_real(artificialdata_1_cov_eig)\n",
    "artificialdata_2_cov_eig_100 = get_100_largest_vals_real(artificialdata_2_cov_eig)\n",
    "artificialdata_3_cov_eig_100 = get_100_largest_vals_real(artificialdata_3_cov_eig)\n",
    "artificialdata_4_cov_eig_100 = get_100_largest_vals_real(artificialdata_4_cov_eig)\n",
    "digit_data_2_cov_eig_100 = get_100_largest_vals_real(digit_data_2_cov_eig)\n",
    "frey_faces_data_cov_eig_100 = get_100_largest_vals_real(frey_faces_data_cov_eig)"
   ]
  },
  {
   "cell_type": "code",
   "execution_count": null,
   "id": "e8ab926f",
   "metadata": {},
   "outputs": [],
   "source": [
    "# plot\n",
    "\n",
    "x = np.arange(1,101)\n",
    "\n",
    "fig = plt.figure()\n",
    "ax1 = fig.add_subplot()\n",
    "ax1.set_ylabel('eigenvalue')\n",
    "ax1.set_xlabel('largest to 100th largest eigenvalue')\n",
    "ax1.plot(x, artificialdata_1_cov_eig_100, label='artificial data 1')\n",
    "ax1.plot(x, artificialdata_2_cov_eig_100, label='artificial data 2')\n",
    "ax1.plot(x, artificialdata_3_cov_eig_100, label='artificial data 3')\n",
    "ax1.plot(x, artificialdata_4_cov_eig_100, label='artificial data 4')\n",
    "ax1.plot(x, digit_data_2_cov_eig_100, label='digit 2 data')\n",
    "ax1.plot(x, frey_faces_data_cov_eig_100, label='frey faces data')\n",
    "ax1.set_yscale('log')\n",
    "ax1.legend()\n",
    "plt.show()"
   ]
  },
  {
   "cell_type": "code",
   "execution_count": null,
   "id": "346232e2",
   "metadata": {},
   "outputs": [],
   "source": []
  }
 ],
 "metadata": {
  "kernelspec": {
   "display_name": "Python 3 (ipykernel)",
   "language": "python",
   "name": "python3"
  },
  "language_info": {
   "codemirror_mode": {
    "name": "ipython",
    "version": 3
   },
   "file_extension": ".py",
   "mimetype": "text/x-python",
   "name": "python",
   "nbconvert_exporter": "python",
   "pygments_lexer": "ipython3",
   "version": "3.9.12"
  }
 },
 "nbformat": 4,
 "nbformat_minor": 5
}
