{
 "cells": [
  {
   "cell_type": "code",
   "execution_count": 1,
   "metadata": {
    "id": "JmAkXaFviR7G"
   },
   "outputs": [],
   "source": [
    "from sklearn.datasets import fetch_openml\n",
    "from sklearn.model_selection import train_test_split\n",
    "import random\n",
    "import numpy as np\n",
    "import copy\n",
    "\n",
    "%matplotlib inline\n",
    "%config InlineBackend.figure_format ='retina'\n",
    "\n",
    "import seaborn as sns\n",
    "import matplotlib.pyplot as plt\n",
    "from sklearn.decomposition import PCA"
   ]
  },
  {
   "cell_type": "code",
   "execution_count": 2,
   "metadata": {},
   "outputs": [],
   "source": [
    "images, labels = fetch_openml('mnist_784', return_X_y=True, as_frame=False)"
   ]
  },
  {
   "cell_type": "code",
   "execution_count": 3,
   "metadata": {
    "id": "Sun3itT-DOip"
   },
   "outputs": [],
   "source": [
    "train_test_split?"
   ]
  },
  {
   "cell_type": "code",
   "execution_count": 4,
   "metadata": {
    "id": "9Re1TDaNjYhW"
   },
   "outputs": [],
   "source": [
    "train_images, test_images, train_labels, test_labels = \\\n",
    "            train_test_split(images, labels, random_state=42) #train_size=10000, stratify=labels"
   ]
  },
  {
   "cell_type": "code",
   "execution_count": 5,
   "metadata": {
    "colab": {
     "base_uri": "https://localhost:8080/",
     "height": 280
    },
    "id": "Hn8FgZls4y91",
    "outputId": "4a9ae78f-cdab-4e66-f79c-25fe3deb409b",
    "scrolled": true
   },
   "outputs": [
    {
     "data": {
      "image/png": "[encoded data removed]",
      "text/plain": [
       "<Figure size 432x288 with 1 Axes>"
      ]
     },
     "metadata": {
      "image/png": {
       "height": 263,
       "width": 251
      },
      "needs_background": "light"
     },
     "output_type": "display_data"
    }
   ],
   "source": [
    "SAMPLE_NUM = 777\n",
    "\n",
    "plt.imshow(train_images[SAMPLE_NUM].reshape(28, 28), cmap='gray')\n",
    "plt.title(f'This is digit {train_labels[SAMPLE_NUM]}')\n",
    "plt.show()"
   ]
  },
  {
   "cell_type": "markdown",
   "metadata": {
    "id": "nGlmIU1z_4u2"
   },
   "source": [
    "To plot everything in grayscale:"
   ]
  },
  {
   "cell_type": "code",
   "execution_count": 6,
   "metadata": {
    "id": "RB-QmdBc_3WH"
   },
   "outputs": [],
   "source": [
    "# plt.gray()\n",
    "# or\n",
    "plt.rcParams['image.cmap'] = 'gray'"
   ]
  },
  {
   "cell_type": "code",
   "execution_count": 7,
   "metadata": {
    "colab": {
     "base_uri": "https://localhost:8080/",
     "height": 280
    },
    "id": "2ZUlg2Ol__4s",
    "outputId": "5d286e19-d979-4fef-e381-873d8959dc88"
   },
   "outputs": [
    {
     "data": {
      "image/png": "[encoded data removed]",
      "text/plain": [
       "<Figure size 432x288 with 1 Axes>"
      ]
     },
     "metadata": {
      "image/png": {
       "height": 263,
       "width": 251
      },
      "needs_background": "light"
     },
     "output_type": "display_data"
    }
   ],
   "source": [
    "plt.imshow(train_images[SAMPLE_NUM].reshape(28, 28))\n",
    "plt.title(f'This is digit {train_labels[SAMPLE_NUM]}')\n",
    "plt.show()"
   ]
  },
  {
   "cell_type": "code",
   "execution_count": 8,
   "metadata": {
    "id": "9FrgLPynj4ka"
   },
   "outputs": [],
   "source": [
    "def select_with_label(images, labels, desired_labels):\n",
    "    mask = np.isin(labels, desired_labels)\n",
    "    return images[mask], labels[mask]\n",
    "\n",
    "images_of_two, labels_of_two = \\\n",
    "            select_with_label(train_images, train_labels, desired_labels=['2'])\n",
    "images_of_odd, labels_of_odd = \\\n",
    "            select_with_label(train_images, train_labels, desired_labels=['1', '3', '5', '7', '9'])"
   ]
  },
  {
   "cell_type": "code",
   "execution_count": 9,
   "metadata": {
    "colab": {
     "base_uri": "https://localhost:8080/"
    },
    "id": "Uc8nEE549X-P",
    "outputId": "511f61dc-d80e-42fd-8d43-ba376a01b249"
   },
   "outputs": [
    {
     "data": {
      "text/plain": [
       "array(['2'], dtype=object)"
      ]
     },
     "execution_count": 9,
     "metadata": {},
     "output_type": "execute_result"
    }
   ],
   "source": [
    "np.unique(labels_of_two)"
   ]
  },
  {
   "cell_type": "code",
   "execution_count": 10,
   "metadata": {},
   "outputs": [],
   "source": [
    "images_of_0_1_2_3_4, labels_of_0_1_2_3_4  = select_with_label(train_images, train_labels, desired_labels=['0', '1', '2', '3', '4'])\n",
    "\n",
    "rng = random.sample(range(images_of_0_1_2_3_4.shape[0]), 5000)\n",
    "images_of_0_1_2_3_4_5k = images_of_0_1_2_3_4[rng,:] # 5k random images of all 5 labels\n",
    "labels_of_0_1_2_3_4_5k = labels_of_0_1_2_3_4[rng,:] "
   ]
  },
  {
   "cell_type": "code",
   "execution_count": 11,
   "metadata": {},
   "outputs": [
    {
     "data": {
      "text/plain": [
       "(26890, 784)"
      ]
     },
     "execution_count": 11,
     "metadata": {},
     "output_type": "execute_result"
    }
   ],
   "source": []
  },
  {
   "cell_type": "code",
   "execution_count": 12,
   "metadata": {},
   "outputs": [
    {
     "data": {
      "text/plain": [
       "(26890,)"
      ]
     },
     "execution_count": 12,
     "metadata": {},
     "output_type": "execute_result"
    }
   ],
   "source": []
  },
  {
   "cell_type": "code",
   "execution_count": null,
   "metadata": {},
   "outputs": [],
   "source": []
  }
 ],
 "metadata": {
  "colab": {
   "collapsed_sections": [],
   "provenance": []
  },
  "kernelspec": {
   "display_name": "Python 3 (ipykernel)",
   "language": "python",
   "name": "python3"
  },
  "language_info": {
   "codemirror_mode": {
    "name": "ipython",
    "version": 3
   },
   "file_extension": ".py",
   "mimetype": "text/x-python",
   "name": "python",
   "nbconvert_exporter": "python",
   "pygments_lexer": "ipython3",
   "version": "3.9.12"
  }
 },
 "nbformat": 4,
 "nbformat_minor": 1
}
