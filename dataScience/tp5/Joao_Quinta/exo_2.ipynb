{
 "cells": [
  {
   "cell_type": "code",
   "execution_count": 1,
   "metadata": {},
   "outputs": [],
   "source": [
    "from dahuffman import HuffmanCodec\n",
    "from scipy.stats import bernoulli\n",
    "import numpy as np\n",
    "import random"
   ]
  },
  {
   "cell_type": "code",
   "execution_count": 2,
   "metadata": {},
   "outputs": [],
   "source": [
    "#used by gen_alphabet to compute prob of each alphabet letter\n",
    "def get_prob(str, p):\n",
    "    count_0 = 0\n",
    "    count_1 = 0\n",
    "    for i in str:\n",
    "        if i == '0':\n",
    "            count_0 += 1\n",
    "        else:\n",
    "            count_1 += 1\n",
    "    return pow(p, count_1) * pow((1 - p), count_0)\n",
    "\n",
    "\n",
    "# this genretaes the alphabet of a given lenght\n",
    "def gen_alphabet(alphabetSize, p):\n",
    "    alphabet = []\n",
    "    prob = []\n",
    "    for i in range(pow(2, 5)):\n",
    "        v = bin(i)[2:]\n",
    "        while len(v) < alphabetSize:\n",
    "            v = '0' + v\n",
    "        alphabet.append(v)\n",
    "    for i in range(len(alphabet)):\n",
    "        prob.append(get_prob(alphabet[i], p))\n",
    "    return alphabet, prob\n",
    "\n",
    "\n",
    "# generates bin seq of len n with prob of 1 = p\n",
    "def gen_bin_seq(n,p):\n",
    "    s = ''\n",
    "    for i in range(n):\n",
    "        if random.random() < p:\n",
    "            s = s + '1'\n",
    "        else:\n",
    "            s = s + '0'\n",
    "    return s\n",
    "        \n",
    "\n",
    "def split_seq(s):\n",
    "    symbols = [s[i:i+5] for i in range(0,len(s),5)]\n",
    "    return symbols"
   ]
  },
  {
   "cell_type": "code",
   "execution_count": 3,
   "metadata": {},
   "outputs": [],
   "source": [
    "alphabetSize = 5\n",
    "p = 0.1\n",
    "\n",
    "\n",
    "alphabet, prob = gen_alphabet(5, p)\n",
    "s = gen_bin_seq(10000,p)\n",
    "split_s = split_seq(s)\n",
    "alphabet_from_txt, counts = np.unique(split_s, return_counts=True)"
   ]
  },
  {
   "cell_type": "code",
   "execution_count": 4,
   "metadata": {},
   "outputs": [
    {
     "name": "stdout",
     "output_type": "stream",
     "text": [
      "['00000' '00001' '00010' '00011' '00100' '00101' '00110' '00111' '01000'\n",
      " '01001' '01010' '01011' '01100' '01101' '01110' '01111' '10000' '10001'\n",
      " '10010' '10011' '10100' '10101' '11000' '11001' '11010' '11100']\n",
      "[1227  124  121   12  128   14   21    2  127   13   12    2   15    3\n",
      "    2    1  112   16   16    3   13    2    9    1    3    1]\n"
     ]
    }
   ],
   "source": [
    "print(alphabet_from_txt)\n",
    "print(counts)"
   ]
  },
  {
   "cell_type": "code",
   "execution_count": 5,
   "metadata": {},
   "outputs": [
    {
     "name": "stdout",
     "output_type": "stream",
     "text": [
      "Bits Code        Value Symbol\n",
      "   3 000             0 '00100'\n",
      "   6 001000          8 '01100'\n",
      "   6 001001          9 '10001'\n",
      "   6 001010         10 '10010'\n",
      "   9 001011000      88 '01011'\n",
      "   9 001011001      89 '01110'\n",
      "   9 001011010      90 '10101'\n",
      "  10 0010110110    182 '11001'\n",
      "  10 0010110111    183 '11100'\n",
      "   7 0010111        23 '11000'\n",
      "   6 001100         12 '00110'\n",
      "   7 0011010        26 '00011'\n",
      "   7 0011011        27 '01010'\n",
      "   7 0011100        28 '01001'\n",
      "   9 001110100     116 '01101'\n",
      "   9 001110101     117 '10011'\n",
      "   9 001110110     118 '11010'\n",
      "  11 00111011100   476 _EOF\n",
      "  11 00111011101   477 '01111'\n",
      "  10 0011101111    239 '00111'\n",
      "   7 0011110        30 '10100'\n",
      "   7 0011111        31 '00101'\n",
      "   4 0100            4 '10000'\n",
      "   4 0101            5 '00010'\n",
      "   4 0110            6 '00001'\n",
      "   4 0111            7 '01000'\n",
      "   1 1               1 '00000'\n"
     ]
    }
   ],
   "source": [
    "code = HuffmanCodec.from_frequencies(dict(zip(alphabet_from_txt, counts)))\n",
    "code.print_code_table()"
   ]
  },
  {
   "cell_type": "code",
   "execution_count": 6,
   "metadata": {},
   "outputs": [
    {
     "name": "stdout",
     "output_type": "stream",
     "text": [
      "Length of the output of the encoder: 4656\n",
      "Entropy of the sequence : 2.3449779679464062\n",
      "Ratio len encoded / len original : 2.328\n"
     ]
    }
   ],
   "source": [
    "def get_entropy(prob):\n",
    "    prob = np.array(prob)\n",
    "    entropy = -(prob @ np.log2(prob))\n",
    "    return entropy\n",
    "\n",
    "print('Length of the output of the encoder:', len(code.encode(split_s)) * 8)\n",
    "print('Entropy of the sequence :', get_entropy(prob))\n",
    "print('Ratio len encoded / len original :', (len(code.encode(split_s) * 8) / len(split_s)))"
   ]
  },
  {
   "cell_type": "code",
   "execution_count": null,
   "metadata": {},
   "outputs": [],
   "source": []
  }
 ],
 "metadata": {
  "kernelspec": {
   "display_name": "Python 3 (ipykernel)",
   "language": "python",
   "name": "python3"
  },
  "language_info": {
   "codemirror_mode": {
    "name": "ipython",
    "version": 3
   },
   "file_extension": ".py",
   "mimetype": "text/x-python",
   "name": "python",
   "nbconvert_exporter": "python",
   "pygments_lexer": "ipython3",
   "version": "3.9.12"
  },
  "vscode": {
   "interpreter": {
    "hash": "6290ab70aa2c9e6859d722745d4fdeafb895ca1190e93c7ac9c8d926153eb965"
   }
  }
 },
 "nbformat": 4,
 "nbformat_minor": 2
}
