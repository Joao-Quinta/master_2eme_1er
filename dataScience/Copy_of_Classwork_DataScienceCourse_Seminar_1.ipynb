{
  "nbformat": 4,
  "nbformat_minor": 0,
  "metadata": {
    "colab": {
      "provenance": [],
      "collapsed_sections": [],
      "include_colab_link": true
    },
    "kernelspec": {
      "name": "python3",
      "display_name": "Python 3"
    },
    "language_info": {
      "name": "python"
    }
  },
  "cells": [
    {
      "cell_type": "markdown",
      "metadata": {
        "id": "view-in-github",
        "colab_type": "text"
      },
      "source": [
        "<a href=\"https://colab.research.google.com/github/Joao-Quinta/master_2eme_1er/blob/main/Copy_of_Classwork_DataScienceCourse_Seminar_1.ipynb\" target=\"_parent\"><img src=\"https://colab.research.google.com/assets/colab-badge.svg\" alt=\"Open In Colab\"/></a>"
      ]
    },
    {
      "cell_type": "code",
      "execution_count": null,
      "metadata": {
        "id": "j48cPoYFMGrH",
        "collapsed": true,
        "outputId": "2041ba1c-9c26-47b2-96fc-81c8d3e6dbf5",
        "colab": {
          "base_uri": "https://localhost:8080/"
        }
      },
      "outputs": [
        {
          "output_type": "stream",
          "name": "stdout",
          "text": [
            "Hello world!\n"
          ]
        }
      ],
      "source": [
        "print(\"Hello world!\")"
      ]
    },
    {
      "cell_type": "code",
      "source": [
        "import numpy as np"
      ],
      "metadata": {
        "id": "FPwDd_dpNbUO"
      },
      "execution_count": null,
      "outputs": []
    },
    {
      "cell_type": "markdown",
      "source": [
        "Numpy is a library which you will use a lot during your Python practice."
      ],
      "metadata": {
        "id": "QNAG_D5ONR8O"
      }
    },
    {
      "cell_type": "code",
      "source": [
        "a=np.array(range(2,8,3))\n",
        "a"
      ],
      "metadata": {
        "id": "mSnUlHbPNsIM",
        "colab": {
          "base_uri": "https://localhost:8080/"
        },
        "outputId": "a73184f2-3899-451b-b437-96a67c6793f5"
      },
      "execution_count": null,
      "outputs": [
        {
          "output_type": "execute_result",
          "data": {
            "text/plain": [
              "array([2, 5])"
            ]
          },
          "metadata": {},
          "execution_count": 4
        }
      ]
    },
    {
      "cell_type": "code",
      "source": [
        "a.shape"
      ],
      "metadata": {
        "id": "U7xeyvu5N0IB",
        "colab": {
          "base_uri": "https://localhost:8080/"
        },
        "outputId": "85eeb90b-98f4-4d19-bb29-4dd0c6dc1d58"
      },
      "execution_count": null,
      "outputs": [
        {
          "output_type": "execute_result",
          "data": {
            "text/plain": [
              "(2,)"
            ]
          },
          "metadata": {},
          "execution_count": 5
        }
      ]
    },
    {
      "cell_type": "code",
      "source": [
        "a=a.reshape(-1,1)\n",
        "a"
      ],
      "metadata": {
        "id": "RC4Krb3WN1Va",
        "colab": {
          "base_uri": "https://localhost:8080/"
        },
        "outputId": "4b765e67-0af5-4332-e2ed-166016fae9d8"
      },
      "execution_count": null,
      "outputs": [
        {
          "output_type": "execute_result",
          "data": {
            "text/plain": [
              "array([[2],\n",
              "       [5]])"
            ]
          },
          "metadata": {},
          "execution_count": 6
        }
      ]
    },
    {
      "cell_type": "code",
      "source": [
        "a.shape"
      ],
      "metadata": {
        "id": "C4tZmC1cN70V",
        "colab": {
          "base_uri": "https://localhost:8080/"
        },
        "outputId": "0e7949c5-fc17-404c-c266-067d99a59a3a"
      },
      "execution_count": null,
      "outputs": [
        {
          "output_type": "execute_result",
          "data": {
            "text/plain": [
              "(2, 1)"
            ]
          },
          "metadata": {},
          "execution_count": 7
        }
      ]
    },
    {
      "cell_type": "code",
      "source": [
        "a.T"
      ],
      "metadata": {
        "id": "E_QhbNO1N829",
        "colab": {
          "base_uri": "https://localhost:8080/"
        },
        "outputId": "64c21926-78d8-4a29-b38b-c093cd6bf74d"
      },
      "execution_count": null,
      "outputs": [
        {
          "output_type": "execute_result",
          "data": {
            "text/plain": [
              "array([[2, 5]])"
            ]
          },
          "metadata": {},
          "execution_count": 8
        }
      ]
    },
    {
      "cell_type": "code",
      "source": [
        "a.T.shape"
      ],
      "metadata": {
        "id": "mMa1beKuN-Gl",
        "colab": {
          "base_uri": "https://localhost:8080/"
        },
        "outputId": "89dcc6ca-ca9d-4942-9854-8eb35368ae27"
      },
      "execution_count": null,
      "outputs": [
        {
          "output_type": "execute_result",
          "data": {
            "text/plain": [
              "(1, 2)"
            ]
          },
          "metadata": {},
          "execution_count": 9
        }
      ]
    },
    {
      "cell_type": "code",
      "source": [
        "a.T*a"
      ],
      "metadata": {
        "id": "iEgcPQ8vOAEs",
        "colab": {
          "base_uri": "https://localhost:8080/"
        },
        "outputId": "72fe147f-0bb7-4e4f-f4bb-7374bf670ea6"
      },
      "execution_count": null,
      "outputs": [
        {
          "output_type": "execute_result",
          "data": {
            "text/plain": [
              "array([[ 4, 10],\n",
              "       [10, 25]])"
            ]
          },
          "metadata": {},
          "execution_count": 10
        }
      ]
    },
    {
      "cell_type": "code",
      "source": [
        "a.T @ a"
      ],
      "metadata": {
        "id": "MumUCuU3OEaB",
        "colab": {
          "base_uri": "https://localhost:8080/"
        },
        "outputId": "70a86b0e-444a-4645-b305-6a824e69ee67"
      },
      "execution_count": null,
      "outputs": [
        {
          "output_type": "execute_result",
          "data": {
            "text/plain": [
              "array([[29]])"
            ]
          },
          "metadata": {},
          "execution_count": 11
        }
      ]
    },
    {
      "cell_type": "markdown",
      "source": [
        "**Vectors using numpy**\n",
        "\n",
        "Create vectors of a given shape (5,1) using [np.ones](https://numpy.org/doc/stable/reference/generated/numpy.ones.html), [np.zeros](https://numpy.org/doc/stable/reference/generated/numpy.zeros.html) and [np.random.rand](https://numpy.org/doc/stable/reference/random/generated/numpy.random.rand.html)\n"
      ],
      "metadata": {
        "id": "kZjPilogMONo"
      }
    },
    {
      "cell_type": "code",
      "source": [
        "shape = (5,1)"
      ],
      "metadata": {
        "id": "0pygmfNdMNkG"
      },
      "execution_count": null,
      "outputs": []
    },
    {
      "cell_type": "code",
      "source": [
        "#ones\n",
        "vectors = np.ones(5)\n",
        "vectors"
      ],
      "metadata": {
        "id": "hMOnnyj3MaqV",
        "outputId": "36e421a1-a7fe-4146-a391-d0a1e22960e4",
        "colab": {
          "base_uri": "https://localhost:8080/"
        }
      },
      "execution_count": null,
      "outputs": [
        {
          "output_type": "execute_result",
          "data": {
            "text/plain": [
              "array([1., 1., 1., 1., 1.])"
            ]
          },
          "metadata": {},
          "execution_count": 13
        }
      ]
    },
    {
      "cell_type": "code",
      "source": [
        "#zeros\n",
        "vectors = np.zeros(5)\n",
        "vectors"
      ],
      "metadata": {
        "id": "QG2KIBN6MeCl",
        "outputId": "641984be-17a5-4aa7-f32d-59d42f205e57",
        "colab": {
          "base_uri": "https://localhost:8080/"
        }
      },
      "execution_count": null,
      "outputs": [
        {
          "output_type": "execute_result",
          "data": {
            "text/plain": [
              "array([0., 0., 0., 0., 0.])"
            ]
          },
          "metadata": {},
          "execution_count": 14
        }
      ]
    },
    {
      "cell_type": "code",
      "source": [
        "#random\n",
        "vectors = np.random.rand(5,1)\n",
        "vectors"
      ],
      "metadata": {
        "id": "Uzr97n6EMpT-",
        "outputId": "271fad63-b68b-4e16-c040-19ba9c32831a",
        "colab": {
          "base_uri": "https://localhost:8080/"
        }
      },
      "execution_count": null,
      "outputs": [
        {
          "output_type": "execute_result",
          "data": {
            "text/plain": [
              "array([[0.31721135],\n",
              "       [0.07801229],\n",
              "       [0.68311116],\n",
              "       [0.48046237],\n",
              "       [0.45985746]])"
            ]
          },
          "metadata": {},
          "execution_count": 17
        }
      ]
    },
    {
      "cell_type": "markdown",
      "source": [
        "**Represantation space with data vectors** (slides 8-9)\n",
        "\n",
        "The D-dimensional space is divided into equivalent bins.\n",
        "Show that the probability to have a not empty bin decreases while dimentionality rises. "
      ],
      "metadata": {
        "id": "uoMzsA27OVCs"
      }
    },
    {
      "cell_type": "code",
      "source": [
        "b = 10 #bins\n",
        "n = 5 #samples per bim we want\n",
        "D = 3 #representation space dimensionality\n",
        "\n",
        "# To find out L, refer to the lectures\n",
        "L = n*(b**D)#vectors we need to genenrate to have n sampels per bin\n",
        "L"
      ],
      "metadata": {
        "id": "CvuKLpohQIdo",
        "outputId": "c5f2a91b-d480-4f65-8cb2-31c966395c83",
        "colab": {
          "base_uri": "https://localhost:8080/"
        }
      },
      "execution_count": null,
      "outputs": [
        {
          "output_type": "execute_result",
          "data": {
            "text/plain": [
              "5000"
            ]
          },
          "metadata": {},
          "execution_count": 39
        }
      ]
    },
    {
      "cell_type": "code",
      "source": [
        "shape=(L, D)"
      ],
      "metadata": {
        "id": "6VT2l07BMrzN"
      },
      "execution_count": null,
      "outputs": []
    },
    {
      "cell_type": "markdown",
      "source": [
        "Generate X as random matrix of a given shape"
      ],
      "metadata": {
        "id": "vy2hegbtK3QM"
      }
    },
    {
      "cell_type": "code",
      "source": [
        "X = np.random.rand(n*b**D,D)\n",
        "X[:6]"
      ],
      "metadata": {
        "id": "9H-Z8GHsOdiI",
        "outputId": "934af014-77f3-46af-ab1e-95618113a628",
        "colab": {
          "base_uri": "https://localhost:8080/"
        }
      },
      "execution_count": null,
      "outputs": [
        {
          "output_type": "execute_result",
          "data": {
            "text/plain": [
              "array([[0.5337728 , 0.58153524, 0.13719428],\n",
              "       [0.72073967, 0.17459806, 0.24241704],\n",
              "       [0.15037296, 0.10249486, 0.63935576],\n",
              "       [0.36653589, 0.38350938, 0.16190835],\n",
              "       [0.58741259, 0.29464072, 0.1825737 ],\n",
              "       [0.21281243, 0.77891588, 0.54406708]])"
            ]
          },
          "metadata": {},
          "execution_count": 42
        }
      ]
    },
    {
      "cell_type": "code",
      "source": [
        "X.shape"
      ],
      "metadata": {
        "id": "1xiQuzCAev_s",
        "outputId": "89e5e600-e468-4392-a3c8-b225d7ddc45a",
        "colab": {
          "base_uri": "https://localhost:8080/"
        }
      },
      "execution_count": null,
      "outputs": [
        {
          "output_type": "execute_result",
          "data": {
            "text/plain": [
              "(5000, 3)"
            ]
          },
          "metadata": {},
          "execution_count": 43
        }
      ]
    },
    {
      "cell_type": "markdown",
      "source": [
        "Using [np.histogramdd](https://numpy.org/doc/stable/reference/generated/numpy.histogramdd.html) make a D-dimensional histogram for bins=b. It should return an array of size (b, b, ..., b) where each element is equal to number of samples in the bin."
      ],
      "metadata": {
        "id": "ZW8qbA0YW0dh"
      }
    },
    {
      "cell_type": "code",
      "source": [
        "h, _ = np.histogramdd(X)"
      ],
      "metadata": {
        "id": "0fzPGehtOfB5"
      },
      "execution_count": null,
      "outputs": []
    },
    {
      "cell_type": "code",
      "source": [
        "assert h.shape == (10, 10, 10)"
      ],
      "metadata": {
        "id": "hJ1ph5n8S9Wh"
      },
      "execution_count": null,
      "outputs": []
    },
    {
      "cell_type": "code",
      "source": [
        "h[0]"
      ],
      "metadata": {
        "id": "49xlaOwSS_pf",
        "outputId": "8255d0e6-ce55-4fb9-99d1-4b5c33d4499c",
        "colab": {
          "base_uri": "https://localhost:8080/"
        }
      },
      "execution_count": null,
      "outputs": [
        {
          "output_type": "execute_result",
          "data": {
            "text/plain": [
              "array([[ 7.,  3.,  4.,  2.,  8.,  4.,  8.,  5.,  3.,  4.],\n",
              "       [ 9.,  6.,  3.,  3.,  5.,  4.,  3.,  3.,  0.,  2.],\n",
              "       [ 4.,  6.,  6.,  2.,  5.,  4.,  3.,  3.,  6.,  4.],\n",
              "       [ 2.,  4.,  3.,  3.,  2., 10.,  5.,  9.,  9.,  4.],\n",
              "       [ 5.,  6.,  5.,  4.,  4.,  8.,  7.,  1.,  1.,  9.],\n",
              "       [ 6.,  4., 10.,  7.,  2.,  5.,  5., 10.,  1.,  5.],\n",
              "       [ 3.,  4.,  7.,  5.,  6.,  8.,  5.,  3.,  8.,  8.],\n",
              "       [ 6.,  6.,  4.,  3.,  6.,  5.,  4.,  5.,  6.,  5.],\n",
              "       [ 4.,  6.,  3.,  4.,  6.,  4., 13.,  6.,  8.,  5.],\n",
              "       [ 6.,  5.,  2.,  2.,  4.,  8.,  2.,  8.,  5.,  5.]])"
            ]
          },
          "metadata": {},
          "execution_count": 46
        }
      ]
    },
    {
      "cell_type": "code",
      "source": [
        "D_range = range(1,8)\n",
        "h_values = []\n",
        "N = L\n",
        "for D in D_range:\n",
        "  shape=(N, D)\n",
        "  X = np.random.rand(N,D)\n",
        "  h, _ = np.histogramdd(X)\n",
        "  h_mean = np.mean(h)\n",
        "  p = h_mean/N\n",
        "  h_values.append(h_mean)"
      ],
      "metadata": {
        "id": "btz9djtzPMJ3"
      },
      "execution_count": null,
      "outputs": []
    },
    {
      "cell_type": "code",
      "source": [
        "import matplotlib.pyplot as plt"
      ],
      "metadata": {
        "id": "IJ6fHeSQRc2B"
      },
      "execution_count": null,
      "outputs": []
    },
    {
      "cell_type": "code",
      "source": [
        "plt.plot(D_range, h_values)\n",
        "plt.xlabel(\"Dimensionality\")\n",
        "plt.ylabel(\"Average sample in the bin\")"
      ],
      "metadata": {
        "id": "_rw4Pkg4SI83",
        "outputId": "d5f33b92-c412-4e08-c67a-1557ab567390",
        "colab": {
          "base_uri": "https://localhost:8080/",
          "height": 296
        }
      },
      "execution_count": null,
      "outputs": [
        {
          "output_type": "execute_result",
          "data": {
            "text/plain": [
              "Text(0, 0.5, 'Average sample in the bin')"
            ]
          },
          "metadata": {},
          "execution_count": 49
        },
        {
          "output_type": "display_data",
          "data": {
            "text/plain": [
              "<Figure size 432x288 with 1 Axes>"
            ],
            "image/png": "[encoded data removed]"
          },
          "metadata": {
            "needs_background": "light"
          }
        }
      ]
    },
    {
      "cell_type": "markdown",
      "source": [
        "**Hypersphere and hypercube** (slides 10-11)\n",
        "\n",
        "Hypercube [-r, r] in D dimensional space. We draw N points uniformly from it. Show how many points will fall in the hypersphere which center is in the origin and radius is r.\n",
        "\n",
        "Generate N uniform samples from hypercube [-r,r] in D-dimensional space using [np.random.uniform ](https://numpy.org/doc/stable/reference/random/generated/numpy.random.uniform.html)"
      ],
      "metadata": {
        "id": "UxpmVS7oWORC"
      }
    },
    {
      "cell_type": "code",
      "source": [
        "N = 100\n",
        "D = 3\n",
        "r = 0.3"
      ],
      "metadata": {
        "id": "DBU-TX3nXq0_"
      },
      "execution_count": null,
      "outputs": []
    },
    {
      "cell_type": "code",
      "source": [
        "cube_samples = np.random.uniform(-r,r,N)"
      ],
      "metadata": {
        "id": "tesb-w10SM4_"
      },
      "execution_count": null,
      "outputs": []
    },
    {
      "cell_type": "markdown",
      "source": [
        "Check yourself that samples are within given range"
      ],
      "metadata": {
        "id": "H7m1UAs_YCVH"
      }
    },
    {
      "cell_type": "code",
      "source": [
        "assert np.all(cube_samples >= -r) and np.all(cube_samples <= r)"
      ],
      "metadata": {
        "id": "Uwe3xGsdYBqW"
      },
      "execution_count": null,
      "outputs": []
    },
    {
      "cell_type": "markdown",
      "source": [
        "What does this line do?"
      ],
      "metadata": {
        "id": "f7JwvziMZop0"
      }
    },
    {
      "cell_type": "markdown",
      "source": [
        "Now how can you verify that a point lies in the sphere with a center in (0, 0) and radius r=0.5? \n",
        "\n",
        "*Hint: use [np.linalg.norm](https://numpy.org/doc/stable/reference/generated/numpy.linalg.norm.html)*"
      ],
      "metadata": {
        "id": "qDjd6qnXZvyv"
      }
    },
    {
      "cell_type": "code",
      "source": [
        "point=np.random.rand(2,)\n",
        "r=0.5\n",
        "point"
      ],
      "metadata": {
        "id": "ytLVcqLRWqe3",
        "outputId": "8ac6f95e-d91a-421b-afa8-05d2b7e7636a",
        "colab": {
          "base_uri": "https://localhost:8080/"
        }
      },
      "execution_count": null,
      "outputs": [
        {
          "output_type": "execute_result",
          "data": {
            "text/plain": [
              "array([0.36350694, 0.0713214 ])"
            ]
          },
          "metadata": {},
          "execution_count": 57
        }
      ]
    },
    {
      "cell_type": "code",
      "source": [
        "np.linalg.norm(point)"
      ],
      "metadata": {
        "id": "EQswST8Ohmgy",
        "outputId": "4033a7e4-141e-4165-a7ba-4ff2e4c33fa2",
        "colab": {
          "base_uri": "https://localhost:8080/"
        }
      },
      "execution_count": null,
      "outputs": [
        {
          "output_type": "execute_result",
          "data": {
            "text/plain": [
              "0.3704376324556491"
            ]
          },
          "metadata": {},
          "execution_count": 58
        }
      ]
    },
    {
      "cell_type": "code",
      "source": [
        "#check if the point lies in the sphere with a center in (0, 0) and radius r=0.5? \n",
        "res = (np.linalg.norm(point) >= -r) and (np.linalg.norm(point) <= r)\n",
        "res"
      ],
      "metadata": {
        "id": "eEVuw8S0YxgT",
        "outputId": "d53d0080-3b14-4cde-c9bd-a35bfa47d493",
        "colab": {
          "base_uri": "https://localhost:8080/"
        }
      },
      "execution_count": null,
      "outputs": [
        {
          "output_type": "execute_result",
          "data": {
            "text/plain": [
              "True"
            ]
          },
          "metadata": {},
          "execution_count": 60
        }
      ]
    },
    {
      "cell_type": "markdown",
      "source": [
        "What if we have N=100 points so the array of shape (100,2)? In this case we want to have an answer for each point separately.\n",
        "\n",
        "*Hint: check the axis argument in the function you used for one point.*"
      ],
      "metadata": {
        "id": "CBFbeyBMajZg"
      }
    },
    {
      "cell_type": "code",
      "source": [
        "points=np.random.rand(100,2)\n",
        "points[:5]"
      ],
      "metadata": {
        "id": "Gq4COT2xaNWx",
        "outputId": "2417015e-a31e-447c-c6b1-5c732a011c6c",
        "colab": {
          "base_uri": "https://localhost:8080/"
        }
      },
      "execution_count": null,
      "outputs": [
        {
          "output_type": "execute_result",
          "data": {
            "text/plain": [
              "array([[0.69958858, 0.41972366],\n",
              "       [0.67694257, 0.73511219],\n",
              "       [0.69835024, 0.79544232],\n",
              "       [0.34287926, 0.23344024],\n",
              "       [0.85615926, 0.49217609]])"
            ]
          },
          "metadata": {},
          "execution_count": 61
        }
      ]
    },
    {
      "cell_type": "code",
      "source": [
        "res = np.array([(np.linalg.norm(points[i,:]) >= -r) and (np.linalg.norm(points[i,:]) <= r) for i in range(points.shape[0])])\n",
        "res"
      ],
      "metadata": {
        "id": "kyrur7yjaw73",
        "outputId": "8f56ca3f-2c76-44c2-e253-c35f23e19279",
        "colab": {
          "base_uri": "https://localhost:8080/"
        }
      },
      "execution_count": null,
      "outputs": [
        {
          "output_type": "execute_result",
          "data": {
            "text/plain": [
              "array([False, False, False,  True, False, False,  True, False, False,\n",
              "        True,  True,  True,  True,  True, False, False, False, False,\n",
              "       False, False, False, False, False,  True,  True, False,  True,\n",
              "        True,  True,  True, False,  True, False, False, False, False,\n",
              "       False, False,  True, False, False, False,  True, False,  True,\n",
              "       False,  True, False, False, False, False, False, False, False,\n",
              "       False,  True, False, False,  True, False, False, False, False,\n",
              "        True, False,  True, False, False, False, False, False, False,\n",
              "        True, False, False, False, False, False, False, False, False,\n",
              "       False, False, False, False, False, False, False, False, False,\n",
              "       False, False,  True,  True, False,  True,  True, False,  True,\n",
              "       False])"
            ]
          },
          "metadata": {},
          "execution_count": 69
        }
      ]
    },
    {
      "cell_type": "markdown",
      "source": [
        "How many points are in the sphere?\n",
        "\n",
        "Hint: use [np.sum](https://numpy.org/doc/stable/reference/generated/numpy.sum.html)"
      ],
      "metadata": {
        "id": "N0xH4y7XbftR"
      }
    },
    {
      "cell_type": "code",
      "source": [
        "#how many points are in the sphere?\n",
        "res = np.sum(res)\n",
        "res"
      ],
      "metadata": {
        "id": "XyOxHo-tbYbW",
        "outputId": "e06cd763-6553-4866-a120-22bd9726dadc",
        "colab": {
          "base_uri": "https://localhost:8080/"
        }
      },
      "execution_count": null,
      "outputs": [
        {
          "output_type": "execute_result",
          "data": {
            "text/plain": [
              "28"
            ]
          },
          "metadata": {},
          "execution_count": 70
        }
      ]
    },
    {
      "cell_type": "markdown",
      "source": [
        "Now let us check the simulation presented in the course: how many sampels from the cube will fall in the hypersphere? The cube [-r,r] and the sphere with hte center in O and radius r, both in D dimensional space. Vary D from 1 to 20 and plot the number of samples in the sphere along y axis and dimension along x axis. r=0.3"
      ],
      "metadata": {
        "id": "JqGmgYONb3aH"
      }
    },
    {
      "cell_type": "code",
      "source": [
        "r = 0.3\n",
        "N = 1000\n",
        "D_range=range(1,20)\n",
        "samples_in_sphere_list = []\n",
        "for D in D_range:\n",
        "  cube_samples = np.random.uniform(-r,r,N)\n",
        "  points=np.random.rand(N,D)\n",
        "  samples_in_sphere = np.sum(np.array([(np.linalg.norm(points[i,:]) >= -r) and (np.linalg.norm(points[i,:]) <= r) for i in range(points.shape[0])]))\n",
        "  samples_in_sphere_list.append(samples_in_sphere)"
      ],
      "metadata": {
        "id": "lf7Tc6sibytN"
      },
      "execution_count": null,
      "outputs": []
    },
    {
      "cell_type": "code",
      "source": [
        "plt.plot(D_range,samples_in_sphere_list)\n",
        "plt.xlabel(\"Dimensionality\")\n",
        "plt.ylabel(\"Samples in the sphere\")"
      ],
      "metadata": {
        "id": "rVu9jfZUdNPl",
        "outputId": "92048f2d-1c53-43f0-fff2-cf1e70bdd22d",
        "colab": {
          "base_uri": "https://localhost:8080/",
          "height": 296
        }
      },
      "execution_count": null,
      "outputs": [
        {
          "output_type": "execute_result",
          "data": {
            "text/plain": [
              "Text(0, 0.5, 'Samples in the sphere')"
            ]
          },
          "metadata": {},
          "execution_count": 76
        },
        {
          "output_type": "display_data",
          "data": {
            "text/plain": [
              "<Figure size 432x288 with 1 Axes>"
            ],
            "image/png": "[encoded data removed]"
          },
          "metadata": {
            "needs_background": "light"
          }
        }
      ]
    },
    {
      "cell_type": "markdown",
      "source": [
        "**Concentration of angles** (slides 20-22)\n",
        "\n",
        "Draw vectors from a D-dimensional space, what is their expected angle?"
      ],
      "metadata": {
        "id": "xXZLGZbqBQPv"
      }
    },
    {
      "cell_type": "code",
      "source": [
        "def generate_points(D):\n",
        "  X = np.random.rand(D,)\n",
        "  Y = np.random.rand(D,)\n",
        "  Z = np.random.rand(D,)\n",
        "  W = np.random.rand(D,)\n",
        "  return X, Y, Z, W\n",
        "\n",
        "def compute_cos(a, b):\n",
        "  cos = np.cos(np.dot(a,b)/(np.linalg.norm(a)*np.linalg.norm(b)))\n",
        "  return cos\n",
        "\n"
      ],
      "metadata": {
        "id": "zY4QvCLQ_Zoo"
      },
      "execution_count": null,
      "outputs": []
    },
    {
      "cell_type": "markdown",
      "source": [
        "First, verify how cos of the angle between two random vectors. For defining two vectors we sample 4 random points.\n",
        "\n",
        "$$a = X - Y$$\n",
        "$$b = W - Z$$"
      ],
      "metadata": {
        "id": "y80I8W2jL__e"
      }
    },
    {
      "cell_type": "code",
      "source": [
        "N = 100\n",
        "means_cos = []\n",
        "D_range=range(5,1000)\n",
        "for D in D_range:\n",
        "  sum_cos = 0\n",
        "  for _ in range(N):\n",
        "    X, Y, Z, W = generate_points(D)\n",
        "    cos = compute_cos(np.subtract(X,Y), np.subtract(W,Z))\n",
        "    sum_cos += cos\n",
        "  mean_cos = sum_cos/N\n",
        "  means_cos.append(mean_cos)"
      ],
      "metadata": {
        "id": "mrUEGP1fCAcY"
      },
      "execution_count": null,
      "outputs": []
    },
    {
      "cell_type": "code",
      "source": [
        "plt.plot(D_range, means_cos)\n",
        "plt.xlabel(\"Dimension\")\n",
        "plt.ylabel(\"cos\")"
      ],
      "metadata": {
        "id": "gotAGUcyDOOh",
        "outputId": "52af6eba-d37a-4a40-f0d0-0b42caaee0e7",
        "colab": {
          "base_uri": "https://localhost:8080/",
          "height": 296
        }
      },
      "execution_count": null,
      "outputs": [
        {
          "output_type": "execute_result",
          "data": {
            "text/plain": [
              "Text(0, 0.5, 'cos')"
            ]
          },
          "metadata": {},
          "execution_count": 116
        },
        {
          "output_type": "display_data",
          "data": {
            "text/plain": [
              "<Figure size 432x288 with 1 Axes>"
            ],
            "image/png": "[encoded data removed]"
          },
          "metadata": {
            "needs_background": "light"
          }
        }
      ]
    },
    {
      "cell_type": "markdown",
      "source": [
        "Now, verify the angle between vectors which form a triangle.\n",
        "\n",
        "*   List item\n",
        "*   List item\n",
        "\n"
      ],
      "metadata": {
        "id": "oXNlT7SFM920"
      }
    },
    {
      "cell_type": "code",
      "source": [
        "N = 100\n",
        "means_cos = []\n",
        "D_range=range(5,1000)\n",
        "for D in D_range:\n",
        "  sum_cos = 0\n",
        "  for _ in range(N):\n",
        "    X, Y, Z, _ = generate_points(D)\n",
        "    cos = np.cos(np.subtract(np.dot(Y,Y),np.dot(X,Y))/np.subtract(2*np.dot(Y,Y), 2*np.dot(X,Y)))\n",
        "    sum_cos += cos\n",
        "  mean_cos = sum_cos/N\n",
        "  means_cos.append(mean_cos)"
      ],
      "metadata": {
        "id": "y7_bFTy9DyB2"
      },
      "execution_count": null,
      "outputs": []
    },
    {
      "cell_type": "code",
      "source": [
        "plt.plot(D_range, means_cos)\n",
        "plt.xlabel(\"Dimension\")\n",
        "plt.ylabel(\"cos\")"
      ],
      "metadata": {
        "id": "fGUFm4_1F108",
        "outputId": "e65a2962-e5fb-4725-a86c-32e3f7c0d08b",
        "colab": {
          "base_uri": "https://localhost:8080/",
          "height": 296
        }
      },
      "execution_count": null,
      "outputs": [
        {
          "output_type": "execute_result",
          "data": {
            "text/plain": [
              "Text(0, 0.5, 'cos')"
            ]
          },
          "metadata": {},
          "execution_count": 123
        },
        {
          "output_type": "display_data",
          "data": {
            "text/plain": [
              "<Figure size 432x288 with 1 Axes>"
            ],
            "image/png": "[encoded data removed]"
          },
          "metadata": {
            "needs_background": "light"
          }
        }
      ]
    }
  ]
}