{
 "cells": [
  {
   "cell_type": "code",
   "execution_count": 1,
   "metadata": {},
   "outputs": [],
   "source": [
    "from matplotlib import pyplot as plt\n",
    "from pandas import read_csv\n",
    "import pandas as pd\n",
    "import numpy as np\n",
    "from pandas.plotting import autocorrelation_plot\n",
    "import statsmodels.api as sm"
   ]
  },
  {
   "cell_type": "code",
   "execution_count": 8,
   "metadata": {},
   "outputs": [
    {
     "name": "stdout",
     "output_type": "stream",
     "text": [
      "            Date  Temp\n",
      "0       1/1/1981  20.7\n",
      "1       1/2/1981  17.9\n",
      "2       1/3/1981  18.8\n",
      "3       1/4/1981  14.6\n",
      "4       1/5/1981  15.8\n",
      "...          ...   ...\n",
      "3645  12/27/1990  14.0\n",
      "3646  12/28/1990  13.6\n",
      "3647  12/29/1990  13.5\n",
      "3648  12/30/1990  15.7\n",
      "3649  12/31/1990  13.0\n",
      "\n",
      "[3650 rows x 2 columns]\n"
     ]
    }
   ],
   "source": [
    "df = pd.read_csv('data\\data_mintemp.csv')\n",
    "print(df) "
   ]
  },
  {
   "cell_type": "code",
   "execution_count": null,
   "metadata": {},
   "outputs": [],
   "source": []
  }
 ],
 "metadata": {
  "colab": {
   "collapsed_sections": [],
   "provenance": []
  },
  "kernelspec": {
   "display_name": "Python 3 (ipykernel)",
   "language": "python",
   "name": "python3"
  },
  "language_info": {
   "codemirror_mode": {
    "name": "ipython",
    "version": 3
   },
   "file_extension": ".py",
   "mimetype": "text/x-python",
   "name": "python",
   "nbconvert_exporter": "python",
   "pygments_lexer": "ipython3",
   "version": "3.9.12"
  }
 },
 "nbformat": 4,
 "nbformat_minor": 1
}
