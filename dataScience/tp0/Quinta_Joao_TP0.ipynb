{
 "cells": [
  {
   "cell_type": "markdown",
   "metadata": {
    "colab_type": "text",
    "id": "view-in-github"
   },
   "source": [
    "<a href=\"https://colab.research.google.com/github/Joao-Quinta/master_2eme_1er/blob/main/Copy_of_Classwork_DataScienceCourse_Seminar_1.ipynb\" target=\"_parent\"><img src=\"https://colab.research.google.com/assets/colab-badge.svg\" alt=\"Open In Colab\"/></a>"
   ]
  },
  {
   "cell_type": "code",
   "execution_count": 48,
   "metadata": {
    "colab": {
     "base_uri": "https://localhost:8080/"
    },
    "id": "j48cPoYFMGrH",
    "outputId": "2041ba1c-9c26-47b2-96fc-81c8d3e6dbf5"
   },
   "outputs": [
    {
     "name": "stdout",
     "output_type": "stream",
     "text": [
      "Hello world!\n"
     ]
    }
   ],
   "source": [
    "print(\"Hello world!\")"
   ]
  },
  {
   "cell_type": "code",
   "execution_count": 49,
   "metadata": {
    "id": "FPwDd_dpNbUO"
   },
   "outputs": [],
   "source": [
    "import numpy as np"
   ]
  },
  {
   "cell_type": "markdown",
   "metadata": {
    "id": "QNAG_D5ONR8O"
   },
   "source": [
    "Numpy is a library which you will use a lot during your Python practice."
   ]
  },
  {
   "cell_type": "code",
   "execution_count": 50,
   "metadata": {
    "colab": {
     "base_uri": "https://localhost:8080/"
    },
    "id": "mSnUlHbPNsIM",
    "outputId": "a73184f2-3899-451b-b437-96a67c6793f5"
   },
   "outputs": [
    {
     "data": {
      "text/plain": [
       "array([2, 5])"
      ]
     },
     "execution_count": 50,
     "metadata": {},
     "output_type": "execute_result"
    }
   ],
   "source": [
    "a=np.array(range(2,8,3))\n",
    "a"
   ]
  },
  {
   "cell_type": "code",
   "execution_count": 51,
   "metadata": {
    "colab": {
     "base_uri": "https://localhost:8080/"
    },
    "id": "U7xeyvu5N0IB",
    "outputId": "85eeb90b-98f4-4d19-bb29-4dd0c6dc1d58"
   },
   "outputs": [
    {
     "data": {
      "text/plain": [
       "(2,)"
      ]
     },
     "execution_count": 51,
     "metadata": {},
     "output_type": "execute_result"
    }
   ],
   "source": [
    "a.shape"
   ]
  },
  {
   "cell_type": "code",
   "execution_count": 52,
   "metadata": {
    "colab": {
     "base_uri": "https://localhost:8080/"
    },
    "id": "RC4Krb3WN1Va",
    "outputId": "4b765e67-0af5-4332-e2ed-166016fae9d8"
   },
   "outputs": [
    {
     "data": {
      "text/plain": [
       "array([[2],\n",
       "       [5]])"
      ]
     },
     "execution_count": 52,
     "metadata": {},
     "output_type": "execute_result"
    }
   ],
   "source": [
    "a=a.reshape(-1,1)\n",
    "a"
   ]
  },
  {
   "cell_type": "code",
   "execution_count": 53,
   "metadata": {
    "colab": {
     "base_uri": "https://localhost:8080/"
    },
    "id": "C4tZmC1cN70V",
    "outputId": "0e7949c5-fc17-404c-c266-067d99a59a3a"
   },
   "outputs": [
    {
     "data": {
      "text/plain": [
       "(2, 1)"
      ]
     },
     "execution_count": 53,
     "metadata": {},
     "output_type": "execute_result"
    }
   ],
   "source": [
    "a.shape"
   ]
  },
  {
   "cell_type": "code",
   "execution_count": 54,
   "metadata": {
    "colab": {
     "base_uri": "https://localhost:8080/"
    },
    "id": "E_QhbNO1N829",
    "outputId": "64c21926-78d8-4a29-b38b-c093cd6bf74d"
   },
   "outputs": [
    {
     "data": {
      "text/plain": [
       "array([[2, 5]])"
      ]
     },
     "execution_count": 54,
     "metadata": {},
     "output_type": "execute_result"
    }
   ],
   "source": [
    "a.T"
   ]
  },
  {
   "cell_type": "code",
   "execution_count": 55,
   "metadata": {
    "colab": {
     "base_uri": "https://localhost:8080/"
    },
    "id": "mMa1beKuN-Gl",
    "outputId": "89dcc6ca-ca9d-4942-9854-8eb35368ae27"
   },
   "outputs": [
    {
     "data": {
      "text/plain": [
       "(1, 2)"
      ]
     },
     "execution_count": 55,
     "metadata": {},
     "output_type": "execute_result"
    }
   ],
   "source": [
    "a.T.shape"
   ]
  },
  {
   "cell_type": "code",
   "execution_count": 56,
   "metadata": {
    "colab": {
     "base_uri": "https://localhost:8080/"
    },
    "id": "iEgcPQ8vOAEs",
    "outputId": "72fe147f-0bb7-4e4f-f4bb-7374bf670ea6"
   },
   "outputs": [
    {
     "data": {
      "text/plain": [
       "array([[ 4, 10],\n",
       "       [10, 25]])"
      ]
     },
     "execution_count": 56,
     "metadata": {},
     "output_type": "execute_result"
    }
   ],
   "source": [
    "a.T*a"
   ]
  },
  {
   "cell_type": "code",
   "execution_count": 57,
   "metadata": {
    "colab": {
     "base_uri": "https://localhost:8080/"
    },
    "id": "MumUCuU3OEaB",
    "outputId": "70a86b0e-444a-4645-b305-6a824e69ee67"
   },
   "outputs": [
    {
     "data": {
      "text/plain": [
       "array([[29]])"
      ]
     },
     "execution_count": 57,
     "metadata": {},
     "output_type": "execute_result"
    }
   ],
   "source": [
    "a.T @ a"
   ]
  },
  {
   "cell_type": "markdown",
   "metadata": {
    "id": "kZjPilogMONo"
   },
   "source": [
    "**Vectors using numpy**\n",
    "\n",
    "Create vectors of a given shape (5,1) using [np.ones](https://numpy.org/doc/stable/reference/generated/numpy.ones.html), [np.zeros](https://numpy.org/doc/stable/reference/generated/numpy.zeros.html) and [np.random.rand](https://numpy.org/doc/stable/reference/random/generated/numpy.random.rand.html)\n"
   ]
  },
  {
   "cell_type": "code",
   "execution_count": 58,
   "metadata": {
    "id": "0pygmfNdMNkG"
   },
   "outputs": [],
   "source": [
    "shape = (5,1)"
   ]
  },
  {
   "cell_type": "code",
   "execution_count": 59,
   "metadata": {
    "colab": {
     "base_uri": "https://localhost:8080/"
    },
    "id": "hMOnnyj3MaqV",
    "outputId": "36e421a1-a7fe-4146-a391-d0a1e22960e4"
   },
   "outputs": [
    {
     "data": {
      "text/plain": [
       "array([1., 1., 1., 1., 1.])"
      ]
     },
     "execution_count": 59,
     "metadata": {},
     "output_type": "execute_result"
    }
   ],
   "source": [
    "#ones\n",
    "vectors = np.ones(5)\n",
    "vectors"
   ]
  },
  {
   "cell_type": "code",
   "execution_count": 60,
   "metadata": {
    "colab": {
     "base_uri": "https://localhost:8080/"
    },
    "id": "QG2KIBN6MeCl",
    "outputId": "641984be-17a5-4aa7-f32d-59d42f205e57"
   },
   "outputs": [
    {
     "data": {
      "text/plain": [
       "array([0., 0., 0., 0., 0.])"
      ]
     },
     "execution_count": 60,
     "metadata": {},
     "output_type": "execute_result"
    }
   ],
   "source": [
    "#zeros\n",
    "vectors = np.zeros(5)\n",
    "vectors"
   ]
  },
  {
   "cell_type": "code",
   "execution_count": 61,
   "metadata": {
    "colab": {
     "base_uri": "https://localhost:8080/"
    },
    "id": "Uzr97n6EMpT-",
    "outputId": "271fad63-b68b-4e16-c040-19ba9c32831a"
   },
   "outputs": [
    {
     "data": {
      "text/plain": [
       "array([[0.0993378 ],\n",
       "       [0.2915746 ],\n",
       "       [0.57912901],\n",
       "       [0.19746313],\n",
       "       [0.046424  ]])"
      ]
     },
     "execution_count": 61,
     "metadata": {},
     "output_type": "execute_result"
    }
   ],
   "source": [
    "#random\n",
    "vectors = np.random.rand(5,1)\n",
    "vectors"
   ]
  },
  {
   "cell_type": "markdown",
   "metadata": {
    "id": "uoMzsA27OVCs"
   },
   "source": [
    "**Represantation space with data vectors** (slides 8-9)\n",
    "\n",
    "The D-dimensional space is divided into equivalent bins.\n",
    "Show that the probability to have a not empty bin decreases while dimentionality rises. "
   ]
  },
  {
   "cell_type": "code",
   "execution_count": 62,
   "metadata": {
    "colab": {
     "base_uri": "https://localhost:8080/"
    },
    "id": "CvuKLpohQIdo",
    "outputId": "c5f2a91b-d480-4f65-8cb2-31c966395c83"
   },
   "outputs": [
    {
     "data": {
      "text/plain": [
       "5000"
      ]
     },
     "execution_count": 62,
     "metadata": {},
     "output_type": "execute_result"
    }
   ],
   "source": [
    "b = 10 #bins\n",
    "n = 5 #samples per bim we want\n",
    "D = 3 #representation space dimensionality\n",
    "\n",
    "# To find out L, refer to the lectures\n",
    "L = n*(b**D)#vectors we need to genenrate to have n sampels per bin\n",
    "L"
   ]
  },
  {
   "cell_type": "code",
   "execution_count": 63,
   "metadata": {
    "id": "6VT2l07BMrzN"
   },
   "outputs": [],
   "source": [
    "shape=(L, D)"
   ]
  },
  {
   "cell_type": "markdown",
   "metadata": {
    "id": "vy2hegbtK3QM"
   },
   "source": [
    "Generate X as random matrix of a given shape"
   ]
  },
  {
   "cell_type": "code",
   "execution_count": 64,
   "metadata": {
    "colab": {
     "base_uri": "https://localhost:8080/"
    },
    "id": "9H-Z8GHsOdiI",
    "outputId": "934af014-77f3-46af-ab1e-95618113a628"
   },
   "outputs": [
    {
     "data": {
      "text/plain": [
       "array([[0.45507113, 0.03531616, 0.30771207],\n",
       "       [0.24801259, 0.50441603, 0.47244448],\n",
       "       [0.99352762, 0.86013096, 0.98271152],\n",
       "       [0.34217829, 0.64435814, 0.67054867],\n",
       "       [0.09327509, 0.02054883, 0.74450115],\n",
       "       [0.15073905, 0.5647428 , 0.48816179]])"
      ]
     },
     "execution_count": 64,
     "metadata": {},
     "output_type": "execute_result"
    }
   ],
   "source": [
    "X = np.random.rand(n*b**D,D)\n",
    "X[:6]"
   ]
  },
  {
   "cell_type": "code",
   "execution_count": 65,
   "metadata": {
    "colab": {
     "base_uri": "https://localhost:8080/"
    },
    "id": "1xiQuzCAev_s",
    "outputId": "89e5e600-e468-4392-a3c8-b225d7ddc45a"
   },
   "outputs": [
    {
     "data": {
      "text/plain": [
       "(5000, 3)"
      ]
     },
     "execution_count": 65,
     "metadata": {},
     "output_type": "execute_result"
    }
   ],
   "source": [
    "X.shape"
   ]
  },
  {
   "cell_type": "markdown",
   "metadata": {
    "id": "ZW8qbA0YW0dh"
   },
   "source": [
    "Using [np.histogramdd](https://numpy.org/doc/stable/reference/generated/numpy.histogramdd.html) make a D-dimensional histogram for bins=b. It should return an array of size (b, b, ..., b) where each element is equal to number of samples in the bin."
   ]
  },
  {
   "cell_type": "code",
   "execution_count": 66,
   "metadata": {
    "id": "0fzPGehtOfB5"
   },
   "outputs": [],
   "source": [
    "h, _ = np.histogramdd(X)"
   ]
  },
  {
   "cell_type": "code",
   "execution_count": 67,
   "metadata": {
    "id": "hJ1ph5n8S9Wh"
   },
   "outputs": [],
   "source": [
    "assert h.shape == (10, 10, 10)"
   ]
  },
  {
   "cell_type": "code",
   "execution_count": 68,
   "metadata": {
    "colab": {
     "base_uri": "https://localhost:8080/"
    },
    "id": "49xlaOwSS_pf",
    "outputId": "8255d0e6-ce55-4fb9-99d1-4b5c33d4499c"
   },
   "outputs": [
    {
     "data": {
      "text/plain": [
       "array([[ 4.,  6.,  5.,  4.,  3.,  5.,  7.,  6.,  6.,  3.],\n",
       "       [ 4.,  6.,  7.,  3.,  5.,  7.,  8.,  2.,  6.,  3.],\n",
       "       [ 2.,  5.,  6.,  2.,  4.,  8.,  6.,  6.,  7.,  3.],\n",
       "       [13.,  6.,  6.,  6.,  9.,  2., 10.,  3.,  5.,  6.],\n",
       "       [ 1.,  8.,  6.,  8.,  4.,  5.,  7.,  4.,  9.,  4.],\n",
       "       [ 3.,  2.,  6.,  6.,  5.,  4.,  4.,  4.,  4.,  2.],\n",
       "       [ 3.,  6.,  4.,  4.,  7.,  8.,  5.,  4.,  5.,  4.],\n",
       "       [ 5.,  6.,  6.,  6.,  6.,  8.,  6.,  3.,  5.,  6.],\n",
       "       [ 2.,  6.,  6., 10.,  5.,  3.,  2.,  3.,  4.,  2.],\n",
       "       [10.,  5.,  6.,  3.,  5.,  5.,  5.,  5.,  2.,  6.]])"
      ]
     },
     "execution_count": 68,
     "metadata": {},
     "output_type": "execute_result"
    }
   ],
   "source": [
    "h[0]"
   ]
  },
  {
   "cell_type": "code",
   "execution_count": 69,
   "metadata": {
    "id": "btz9djtzPMJ3"
   },
   "outputs": [],
   "source": [
    "D_range = range(1,8)\n",
    "h_values = []\n",
    "N = L\n",
    "for D in D_range:\n",
    "  shape=(N, D)\n",
    "  X = np.random.rand(N,D)\n",
    "  h, _ = np.histogramdd(X)\n",
    "  h_mean = np.mean(h)\n",
    "  p = h_mean/N\n",
    "  h_values.append(h_mean)"
   ]
  },
  {
   "cell_type": "code",
   "execution_count": 70,
   "metadata": {
    "id": "IJ6fHeSQRc2B"
   },
   "outputs": [],
   "source": [
    "import matplotlib.pyplot as plt"
   ]
  },
  {
   "cell_type": "code",
   "execution_count": 71,
   "metadata": {
    "colab": {
     "base_uri": "https://localhost:8080/",
     "height": 296
    },
    "id": "_rw4Pkg4SI83",
    "outputId": "d5f33b92-c412-4e08-c67a-1557ab567390"
   },
   "outputs": [
    {
     "data": {
      "text/plain": [
       "Text(0, 0.5, 'Average sample in the bin')"
      ]
     },
     "execution_count": 71,
     "metadata": {},
     "output_type": "execute_result"
    },
    {
     "data": {
      "image/png": "[encoded data removed]",
      "text/plain": [
       "<Figure size 432x288 with 1 Axes>"
      ]
     },
     "metadata": {
      "needs_background": "light"
     },
     "output_type": "display_data"
    }
   ],
   "source": [
    "plt.plot(D_range, h_values)\n",
    "plt.xlabel(\"Dimensionality\")\n",
    "plt.ylabel(\"Average sample in the bin\")"
   ]
  },
  {
   "cell_type": "markdown",
   "metadata": {
    "id": "UxpmVS7oWORC"
   },
   "source": [
    "**Hypersphere and hypercube** (slides 10-11)\n",
    "\n",
    "Hypercube [-r, r] in D dimensional space. We draw N points uniformly from it. Show how many points will fall in the hypersphere which center is in the origin and radius is r.\n",
    "\n",
    "Generate N uniform samples from hypercube [-r,r] in D-dimensional space using [np.random.uniform ](https://numpy.org/doc/stable/reference/random/generated/numpy.random.uniform.html)"
   ]
  },
  {
   "cell_type": "code",
   "execution_count": 72,
   "metadata": {
    "id": "DBU-TX3nXq0_"
   },
   "outputs": [],
   "source": [
    "N = 100\n",
    "D = 3\n",
    "r = 0.3"
   ]
  },
  {
   "cell_type": "code",
   "execution_count": 73,
   "metadata": {
    "id": "tesb-w10SM4_"
   },
   "outputs": [],
   "source": [
    "cube_samples = np.random.uniform(-r,r,N)"
   ]
  },
  {
   "cell_type": "markdown",
   "metadata": {
    "id": "H7m1UAs_YCVH"
   },
   "source": [
    "Check yourself that samples are within given range"
   ]
  },
  {
   "cell_type": "code",
   "execution_count": 74,
   "metadata": {
    "id": "Uwe3xGsdYBqW"
   },
   "outputs": [],
   "source": [
    "assert np.all(cube_samples >= -r) and np.all(cube_samples <= r)"
   ]
  },
  {
   "cell_type": "markdown",
   "metadata": {
    "id": "f7JwvziMZop0"
   },
   "source": [
    "What does this line do? -> verifies that they are all hypercubes"
   ]
  },
  {
   "cell_type": "markdown",
   "metadata": {
    "id": "qDjd6qnXZvyv"
   },
   "source": [
    "Now how can you verify that a point lies in the sphere with a center in (0, 0) and radius r=0.5? \n",
    "\n",
    "*Hint: use [np.linalg.norm](https://numpy.org/doc/stable/reference/generated/numpy.linalg.norm.html)*"
   ]
  },
  {
   "cell_type": "code",
   "execution_count": 75,
   "metadata": {
    "colab": {
     "base_uri": "https://localhost:8080/"
    },
    "id": "ytLVcqLRWqe3",
    "outputId": "8ac6f95e-d91a-421b-afa8-05d2b7e7636a"
   },
   "outputs": [
    {
     "data": {
      "text/plain": [
       "array([0.19906335, 0.00494907])"
      ]
     },
     "execution_count": 75,
     "metadata": {},
     "output_type": "execute_result"
    }
   ],
   "source": [
    "point=np.random.rand(2,)\n",
    "r=0.5\n",
    "point"
   ]
  },
  {
   "cell_type": "code",
   "execution_count": 76,
   "metadata": {
    "colab": {
     "base_uri": "https://localhost:8080/"
    },
    "id": "EQswST8Ohmgy",
    "outputId": "4033a7e4-141e-4165-a7ba-4ff2e4c33fa2"
   },
   "outputs": [
    {
     "data": {
      "text/plain": [
       "0.19912486328732215"
      ]
     },
     "execution_count": 76,
     "metadata": {},
     "output_type": "execute_result"
    }
   ],
   "source": [
    "np.linalg.norm(point)"
   ]
  },
  {
   "cell_type": "code",
   "execution_count": 77,
   "metadata": {
    "colab": {
     "base_uri": "https://localhost:8080/"
    },
    "id": "eEVuw8S0YxgT",
    "outputId": "d53d0080-3b14-4cde-c9bd-a35bfa47d493"
   },
   "outputs": [
    {
     "data": {
      "text/plain": [
       "True"
      ]
     },
     "execution_count": 77,
     "metadata": {},
     "output_type": "execute_result"
    }
   ],
   "source": [
    "#check if the point lies in the sphere with a center in (0, 0) and radius r=0.5? \n",
    "res = (np.linalg.norm(point) >= -r) and (np.linalg.norm(point) <= r)\n",
    "res"
   ]
  },
  {
   "cell_type": "markdown",
   "metadata": {
    "id": "CBFbeyBMajZg"
   },
   "source": [
    "What if we have N=100 points so the array of shape (100,2)? In this case we want to have an answer for each point separately.\n",
    "\n",
    "*Hint: check the axis argument in the function you used for one point.*"
   ]
  },
  {
   "cell_type": "code",
   "execution_count": 78,
   "metadata": {
    "colab": {
     "base_uri": "https://localhost:8080/"
    },
    "id": "Gq4COT2xaNWx",
    "outputId": "2417015e-a31e-447c-c6b1-5c732a011c6c"
   },
   "outputs": [],
   "source": [
    "points=np.random.rand(100,2)"
   ]
  },
  {
   "cell_type": "code",
   "execution_count": 79,
   "metadata": {
    "colab": {
     "base_uri": "https://localhost:8080/"
    },
    "id": "kyrur7yjaw73",
    "outputId": "8f56ca3f-2c76-44c2-e253-c35f23e19279"
   },
   "outputs": [
    {
     "data": {
      "text/plain": [
       "array([False, False, False, False, False, False, False, False, False,\n",
       "       False,  True, False, False, False, False, False, False, False,\n",
       "       False, False, False, False,  True, False,  True, False, False,\n",
       "       False,  True,  True, False,  True,  True, False, False, False,\n",
       "        True,  True, False, False, False, False, False, False, False,\n",
       "       False, False,  True, False,  True, False, False, False, False,\n",
       "       False, False, False, False, False, False, False, False, False,\n",
       "       False, False, False, False, False, False, False, False,  True,\n",
       "       False, False, False, False, False, False,  True, False,  True,\n",
       "       False, False,  True, False,  True, False, False, False,  True,\n",
       "       False, False,  True,  True,  True, False, False, False, False,\n",
       "       False])"
      ]
     },
     "execution_count": 79,
     "metadata": {},
     "output_type": "execute_result"
    }
   ],
   "source": [
    "res = np.array([(np.linalg.norm(points[i,:]) >= -r) and (np.linalg.norm(points[i,:]) <= r) for i in range(points.shape[0])])\n",
    "res"
   ]
  },
  {
   "cell_type": "markdown",
   "metadata": {
    "id": "N0xH4y7XbftR"
   },
   "source": [
    "How many points are in the sphere?\n",
    "\n",
    "Hint: use [np.sum](https://numpy.org/doc/stable/reference/generated/numpy.sum.html)"
   ]
  },
  {
   "cell_type": "code",
   "execution_count": 80,
   "metadata": {
    "colab": {
     "base_uri": "https://localhost:8080/"
    },
    "id": "XyOxHo-tbYbW",
    "outputId": "e06cd763-6553-4866-a120-22bd9726dadc"
   },
   "outputs": [
    {
     "name": "stdout",
     "output_type": "stream",
     "text": [
      "20  points in sphere\n"
     ]
    }
   ],
   "source": [
    "#how many points are in the sphere?\n",
    "res = np.sum(res)\n",
    "print(res, \" points in sphere\")"
   ]
  },
  {
   "cell_type": "markdown",
   "metadata": {
    "id": "JqGmgYONb3aH"
   },
   "source": [
    "Now let us check the simulation presented in the course: how many sampels from the cube will fall in the hypersphere? The cube [-r,r] and the sphere with hte center in O and radius r, both in D dimensional space. Vary D from 1 to 20 and plot the number of samples in the sphere along y axis and dimension along x axis. r=0.3"
   ]
  },
  {
   "cell_type": "code",
   "execution_count": 81,
   "metadata": {
    "id": "lf7Tc6sibytN"
   },
   "outputs": [],
   "source": [
    "r = 0.3\n",
    "N = 1000\n",
    "D_range=range(1,20)\n",
    "samples_in_sphere_list = []\n",
    "for D in D_range:\n",
    "  cube_samples = np.random.uniform(-r,r,N)\n",
    "  points=np.random.rand(N,D)\n",
    "  samples_in_sphere = np.sum(np.array([(np.linalg.norm(points[i,:]) >= -r) and (np.linalg.norm(points[i,:]) <= r) for i in range(points.shape[0])]))\n",
    "  samples_in_sphere_list.append(samples_in_sphere)"
   ]
  },
  {
   "cell_type": "code",
   "execution_count": 82,
   "metadata": {
    "colab": {
     "base_uri": "https://localhost:8080/",
     "height": 296
    },
    "id": "rVu9jfZUdNPl",
    "outputId": "92048f2d-1c53-43f0-fff2-cf1e70bdd22d"
   },
   "outputs": [
    {
     "data": {
      "text/plain": [
       "Text(0, 0.5, 'Samples in the sphere')"
      ]
     },
     "execution_count": 82,
     "metadata": {},
     "output_type": "execute_result"
    },
    {
     "data": {
      "image/png": "[encoded data removed]",
      "text/plain": [
       "<Figure size 432x288 with 1 Axes>"
      ]
     },
     "metadata": {
      "needs_background": "light"
     },
     "output_type": "display_data"
    }
   ],
   "source": [
    "plt.plot(D_range,samples_in_sphere_list)\n",
    "plt.xlabel(\"Dimensionality\")\n",
    "plt.ylabel(\"Samples in the sphere\")"
   ]
  },
  {
   "cell_type": "markdown",
   "metadata": {
    "id": "xXZLGZbqBQPv"
   },
   "source": [
    "**Concentration of angles** (slides 20-22)\n",
    "\n",
    "Draw vectors from a D-dimensional space, what is their expected angle?"
   ]
  },
  {
   "cell_type": "code",
   "execution_count": 83,
   "metadata": {
    "id": "zY4QvCLQ_Zoo"
   },
   "outputs": [],
   "source": [
    "def generate_points(D):\n",
    "  X = np.random.rand(D,)\n",
    "  Y = np.random.rand(D,)\n",
    "  Z = np.random.rand(D,)\n",
    "  W = np.random.rand(D,)\n",
    "  return X, Y, Z, W\n",
    "\n",
    "def compute_cos(a, b):\n",
    "  cos = np.dot(a,b)/(np.linalg.norm(a)*np.linalg.norm(b))\n",
    "  return cos\n",
    "\n"
   ]
  },
  {
   "cell_type": "markdown",
   "metadata": {
    "id": "y80I8W2jL__e"
   },
   "source": [
    "First, verify how cos of the angle between two random vectors. For defining two vectors we sample 4 random points.\n",
    "\n",
    "$$a = X - Y$$\n",
    "$$b = W - Z$$"
   ]
  },
  {
   "cell_type": "code",
   "execution_count": 84,
   "metadata": {
    "id": "mrUEGP1fCAcY"
   },
   "outputs": [],
   "source": [
    "N = 100\n",
    "means_cos = []\n",
    "D_range=range(5,1000)\n",
    "for D in D_range:\n",
    "  sum_cos = 0\n",
    "  for _ in range(N):\n",
    "    X, Y, Z, W = generate_points(D)\n",
    "    cos = compute_cos(np.subtract(X,Y), np.subtract(W,Z))\n",
    "    sum_cos += cos\n",
    "  mean_cos = sum_cos/N\n",
    "  means_cos.append(mean_cos)"
   ]
  },
  {
   "cell_type": "code",
   "execution_count": 85,
   "metadata": {
    "colab": {
     "base_uri": "https://localhost:8080/",
     "height": 296
    },
    "id": "gotAGUcyDOOh",
    "outputId": "52af6eba-d37a-4a40-f0d0-0b42caaee0e7"
   },
   "outputs": [
    {
     "data": {
      "text/plain": [
       "Text(0, 0.5, 'cos')"
      ]
     },
     "execution_count": 85,
     "metadata": {},
     "output_type": "execute_result"
    },
    {
     "data": {
      "image/png": "[encoded data removed]",
      "text/plain": [
       "<Figure size 432x288 with 1 Axes>"
      ]
     },
     "metadata": {
      "needs_background": "light"
     },
     "output_type": "display_data"
    }
   ],
   "source": [
    "plt.plot(D_range, means_cos)\n",
    "plt.xlabel(\"Dimension\")\n",
    "plt.ylabel(\"cos\")"
   ]
  },
  {
   "cell_type": "markdown",
   "metadata": {
    "id": "oXNlT7SFM920"
   },
   "source": [
    "Now, verify the angle between vectors which form a triangle.\n",
    "\n",
    "*   List item\n",
    "*   List item\n",
    "\n"
   ]
  },
  {
   "cell_type": "code",
   "execution_count": 86,
   "metadata": {
    "id": "y7_bFTy9DyB2"
   },
   "outputs": [],
   "source": [
    "N = 100\n",
    "means_cos = []\n",
    "D_range=range(5,1000)\n",
    "for D in D_range:\n",
    "  sum_cos = 0\n",
    "  for _ in range(N):\n",
    "    X, Y, Z, _ = generate_points(D)\n",
    "    cos = compute_cos(X-Y,Z-Y)\n",
    "    sum_cos += cos\n",
    "  mean_cos = sum_cos/N\n",
    "  means_cos.append(mean_cos)"
   ]
  },
  {
   "cell_type": "code",
   "execution_count": 87,
   "metadata": {
    "colab": {
     "base_uri": "https://localhost:8080/",
     "height": 296
    },
    "id": "fGUFm4_1F108",
    "outputId": "e65a2962-e5fb-4725-a86c-32e3f7c0d08b"
   },
   "outputs": [
    {
     "data": {
      "text/plain": [
       "Text(0, 0.5, 'cos')"
      ]
     },
     "execution_count": 87,
     "metadata": {},
     "output_type": "execute_result"
    },
    {
     "data": {
      "image/png": "[encoded data removed]",
      "text/plain": [
       "<Figure size 432x288 with 1 Axes>"
      ]
     },
     "metadata": {
      "needs_background": "light"
     },
     "output_type": "display_data"
    }
   ],
   "source": [
    "plt.plot(D_range, means_cos)\n",
    "plt.xlabel(\"Dimension\")\n",
    "plt.ylabel(\"cos\")"
   ]
  },
  {
   "cell_type": "code",
   "execution_count": null,
   "metadata": {},
   "outputs": [],
   "source": []
  }
 ],
 "metadata": {
  "colab": {
   "collapsed_sections": [],
   "include_colab_link": true,
   "provenance": []
  },
  "kernelspec": {
   "display_name": "Python 3 (ipykernel)",
   "language": "python",
   "name": "python3"
  },
  "language_info": {
   "codemirror_mode": {
    "name": "ipython",
    "version": 3
   },
   "file_extension": ".py",
   "mimetype": "text/x-python",
   "name": "python",
   "nbconvert_exporter": "python",
   "pygments_lexer": "ipython3",
   "version": "3.9.12"
  }
 },
 "nbformat": 4,
 "nbformat_minor": 1
}
