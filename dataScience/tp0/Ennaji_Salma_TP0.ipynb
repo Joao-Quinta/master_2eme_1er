{
 "cells": [
  {
   "cell_type": "code",
   "execution_count": 1,
   "metadata": {
    "colab": {
     "base_uri": "https://localhost:8080/"
    },
    "id": "j48cPoYFMGrH",
    "outputId": "afae23d7-4486-47d2-98c4-69648e3ade17"
   },
   "outputs": [
    {
     "name": "stdout",
     "output_type": "stream",
     "text": [
      "Hello world!\n"
     ]
    }
   ],
   "source": [
    "print(\"Hello world!\")"
   ]
  },
  {
   "cell_type": "code",
   "execution_count": 2,
   "metadata": {
    "id": "FPwDd_dpNbUO"
   },
   "outputs": [],
   "source": [
    "import numpy as np\n",
    "from numpy import linalg as LA\n",
    "import random\n",
    "import math"
   ]
  },
  {
   "cell_type": "markdown",
   "metadata": {
    "id": "QNAG_D5ONR8O"
   },
   "source": [
    "Numpy is a library which you will use a lot during your Python practice."
   ]
  },
  {
   "cell_type": "code",
   "execution_count": 3,
   "metadata": {
    "colab": {
     "base_uri": "https://localhost:8080/"
    },
    "id": "mSnUlHbPNsIM",
    "outputId": "1eff64aa-91a4-439a-8e5c-9a9eec7e1a71"
   },
   "outputs": [
    {
     "data": {
      "text/plain": [
       "array([2, 5])"
      ]
     },
     "execution_count": 3,
     "metadata": {},
     "output_type": "execute_result"
    }
   ],
   "source": [
    "a=np.array(range(2,8,3))\n",
    "a"
   ]
  },
  {
   "cell_type": "code",
   "execution_count": 4,
   "metadata": {
    "colab": {
     "base_uri": "https://localhost:8080/"
    },
    "id": "U7xeyvu5N0IB",
    "outputId": "40f31691-ec75-4f18-c673-598c5bf0fa4a"
   },
   "outputs": [
    {
     "data": {
      "text/plain": [
       "(2,)"
      ]
     },
     "execution_count": 4,
     "metadata": {},
     "output_type": "execute_result"
    }
   ],
   "source": [
    "a.shape"
   ]
  },
  {
   "cell_type": "code",
   "execution_count": 5,
   "metadata": {
    "colab": {
     "base_uri": "https://localhost:8080/"
    },
    "id": "RC4Krb3WN1Va",
    "outputId": "7f014aaf-c40f-4bf3-e171-c76cff4f0a93"
   },
   "outputs": [
    {
     "data": {
      "text/plain": [
       "array([[2],\n",
       "       [5]])"
      ]
     },
     "execution_count": 5,
     "metadata": {},
     "output_type": "execute_result"
    }
   ],
   "source": [
    "a=a.reshape(-1,1)\n",
    "a"
   ]
  },
  {
   "cell_type": "code",
   "execution_count": 6,
   "metadata": {
    "colab": {
     "base_uri": "https://localhost:8080/"
    },
    "id": "C4tZmC1cN70V",
    "outputId": "9f6772dd-afa9-484c-9cbf-ac2bcef0a307"
   },
   "outputs": [
    {
     "data": {
      "text/plain": [
       "(2, 1)"
      ]
     },
     "execution_count": 6,
     "metadata": {},
     "output_type": "execute_result"
    }
   ],
   "source": [
    "a.shape"
   ]
  },
  {
   "cell_type": "code",
   "execution_count": 7,
   "metadata": {
    "colab": {
     "base_uri": "https://localhost:8080/"
    },
    "id": "E_QhbNO1N829",
    "outputId": "65e8d977-d398-4a0c-ffe1-b6c15d133869"
   },
   "outputs": [
    {
     "data": {
      "text/plain": [
       "array([[2, 5]])"
      ]
     },
     "execution_count": 7,
     "metadata": {},
     "output_type": "execute_result"
    }
   ],
   "source": [
    "a.T"
   ]
  },
  {
   "cell_type": "code",
   "execution_count": 8,
   "metadata": {
    "colab": {
     "base_uri": "https://localhost:8080/"
    },
    "id": "mMa1beKuN-Gl",
    "outputId": "d76f549b-9c9e-49cb-fcfb-55cdbeaba191"
   },
   "outputs": [
    {
     "data": {
      "text/plain": [
       "(1, 2)"
      ]
     },
     "execution_count": 8,
     "metadata": {},
     "output_type": "execute_result"
    }
   ],
   "source": [
    "a.T.shape"
   ]
  },
  {
   "cell_type": "code",
   "execution_count": 9,
   "metadata": {
    "colab": {
     "base_uri": "https://localhost:8080/"
    },
    "id": "iEgcPQ8vOAEs",
    "outputId": "f119087e-9b17-408f-d85a-f6a297f18d22"
   },
   "outputs": [
    {
     "data": {
      "text/plain": [
       "array([[ 4, 10],\n",
       "       [10, 25]])"
      ]
     },
     "execution_count": 9,
     "metadata": {},
     "output_type": "execute_result"
    }
   ],
   "source": [
    "a.T*a"
   ]
  },
  {
   "cell_type": "code",
   "execution_count": 10,
   "metadata": {
    "colab": {
     "base_uri": "https://localhost:8080/"
    },
    "id": "MumUCuU3OEaB",
    "outputId": "305a3f49-0bb5-4f5f-838a-f1c14e93d494"
   },
   "outputs": [
    {
     "data": {
      "text/plain": [
       "array([[5.38516481]])"
      ]
     },
     "execution_count": 10,
     "metadata": {},
     "output_type": "execute_result"
    }
   ],
   "source": [
    "(a.T @ a) ** 0.5"
   ]
  },
  {
   "cell_type": "code",
   "execution_count": 11,
   "metadata": {
    "colab": {
     "base_uri": "https://localhost:8080/"
    },
    "id": "u5PdBCpchuJ7",
    "outputId": "234d7a93-b00a-4d8f-e0e0-d2003cfa1c0b"
   },
   "outputs": [
    {
     "data": {
      "text/plain": [
       "5.385164807134504"
      ]
     },
     "execution_count": 11,
     "metadata": {},
     "output_type": "execute_result"
    }
   ],
   "source": [
    "np.linalg.norm(a)"
   ]
  },
  {
   "cell_type": "markdown",
   "metadata": {
    "id": "kZjPilogMONo"
   },
   "source": [
    "**Vectors using numpy**\n",
    "\n",
    "Create vectors of a given shape (5,1) using [np.ones](https://numpy.org/doc/stable/reference/generated/numpy.ones.html), [np.zeros](https://numpy.org/doc/stable/reference/generated/numpy.zeros.html) and [np.random.rand](https://numpy.org/doc/stable/reference/random/generated/numpy.random.rand.html)\n"
   ]
  },
  {
   "cell_type": "code",
   "execution_count": 12,
   "metadata": {
    "id": "0pygmfNdMNkG"
   },
   "outputs": [],
   "source": [
    "shape = (5,1)"
   ]
  },
  {
   "cell_type": "code",
   "execution_count": 13,
   "metadata": {
    "colab": {
     "base_uri": "https://localhost:8080/"
    },
    "id": "hMOnnyj3MaqV",
    "outputId": "c842fd09-21aa-40bd-c0ab-9ef4bece757a"
   },
   "outputs": [
    {
     "data": {
      "text/plain": [
       "array([[1.],\n",
       "       [1.],\n",
       "       [1.],\n",
       "       [1.],\n",
       "       [1.]])"
      ]
     },
     "execution_count": 13,
     "metadata": {},
     "output_type": "execute_result"
    }
   ],
   "source": [
    "#ones\n",
    "vectors = np.ones(shape)\n",
    "vectors"
   ]
  },
  {
   "cell_type": "code",
   "execution_count": 14,
   "metadata": {
    "colab": {
     "base_uri": "https://localhost:8080/"
    },
    "id": "QG2KIBN6MeCl",
    "outputId": "e9073b10-5f46-4577-fdd1-144a90f860c1"
   },
   "outputs": [
    {
     "data": {
      "text/plain": [
       "array([[0.],\n",
       "       [0.],\n",
       "       [0.],\n",
       "       [0.],\n",
       "       [0.]])"
      ]
     },
     "execution_count": 14,
     "metadata": {},
     "output_type": "execute_result"
    }
   ],
   "source": [
    "#zeros\n",
    "vectors = np.zeros(shape)\n",
    "vectors"
   ]
  },
  {
   "cell_type": "code",
   "execution_count": 15,
   "metadata": {
    "colab": {
     "base_uri": "https://localhost:8080/"
    },
    "id": "Uzr97n6EMpT-",
    "outputId": "4f015002-5003-45f9-891c-3d56204a9e38"
   },
   "outputs": [
    {
     "data": {
      "text/plain": [
       "array([[0.13721254],\n",
       "       [0.85876092],\n",
       "       [0.73286824],\n",
       "       [0.26616312],\n",
       "       [0.88127762]])"
      ]
     },
     "execution_count": 15,
     "metadata": {},
     "output_type": "execute_result"
    }
   ],
   "source": [
    "#random\n",
    "vectors = np.random.rand(*shape)\n",
    "vectors"
   ]
  },
  {
   "cell_type": "markdown",
   "metadata": {
    "id": "uoMzsA27OVCs"
   },
   "source": [
    "**Represantation space with data vectors** (slides 8-9)\n",
    "\n",
    "The D-dimensional space is divided into equivalent bins.\n",
    "Show that the probability to have a not empty bin decreases while dimensionality rises. "
   ]
  },
  {
   "cell_type": "code",
   "execution_count": 16,
   "metadata": {
    "colab": {
     "base_uri": "https://localhost:8080/"
    },
    "id": "CvuKLpohQIdo",
    "outputId": "bbfaf16f-c872-4baa-affd-9b0e53e6b697"
   },
   "outputs": [
    {
     "data": {
      "text/plain": [
       "5000"
      ]
     },
     "execution_count": 16,
     "metadata": {},
     "output_type": "execute_result"
    }
   ],
   "source": [
    "b = 10 #bins\n",
    "n = 5 #samples per bin we want\n",
    "D = 3 #representation space dimensionality\n",
    "\n",
    "# To find out L, refer to the lectures\n",
    "L =  n * (b ** D) #number of samples we need to genenrate to have n samples per bin\n",
    "assert isinstance(L, (int, float)), \"L should be a scalar\"\n",
    "L"
   ]
  },
  {
   "cell_type": "code",
   "execution_count": 17,
   "metadata": {
    "id": "6VT2l07BMrzN"
   },
   "outputs": [],
   "source": [
    "shape=(L, D)"
   ]
  },
  {
   "cell_type": "markdown",
   "metadata": {
    "id": "vy2hegbtK3QM"
   },
   "source": [
    "Generate X as random matrix of a given shape"
   ]
  },
  {
   "cell_type": "code",
   "execution_count": 18,
   "metadata": {
    "colab": {
     "base_uri": "https://localhost:8080/"
    },
    "id": "9H-Z8GHsOdiI",
    "outputId": "6f3f63b1-a32c-48b2-9ffb-ab6db5dcf7d8"
   },
   "outputs": [
    {
     "data": {
      "text/plain": [
       "array([[0.86620299, 0.18528763, 0.42262668],\n",
       "       [0.26752857, 0.61267807, 0.90518495],\n",
       "       [0.32532794, 0.00745448, 0.69109581],\n",
       "       [0.50645012, 0.94579188, 0.72111816],\n",
       "       [0.32006293, 0.33757486, 0.82354805],\n",
       "       [0.29281631, 0.26856325, 0.94501867]])"
      ]
     },
     "execution_count": 18,
     "metadata": {},
     "output_type": "execute_result"
    }
   ],
   "source": [
    "X = np.random.random(shape)\n",
    "X[:6]"
   ]
  },
  {
   "cell_type": "markdown",
   "metadata": {
    "id": "ZW8qbA0YW0dh"
   },
   "source": [
    "Using [np.histogramdd](https://numpy.org/doc/stable/reference/generated/numpy.histogramdd.html) make a D-dimensional histogram for bins=b. It should return an array of size (b, b, ..., b) where each element is equal to number of samples in the bin."
   ]
  },
  {
   "cell_type": "code",
   "execution_count": 19,
   "metadata": {
    "id": "0fzPGehtOfB5"
   },
   "outputs": [],
   "source": [
    "h, _ = np.histogramdd(X)"
   ]
  },
  {
   "cell_type": "code",
   "execution_count": 20,
   "metadata": {
    "id": "hJ1ph5n8S9Wh"
   },
   "outputs": [],
   "source": [
    "assert h.shape == (10, 10, 10)"
   ]
  },
  {
   "cell_type": "code",
   "execution_count": 21,
   "metadata": {
    "colab": {
     "base_uri": "https://localhost:8080/"
    },
    "id": "49xlaOwSS_pf",
    "outputId": "f6c0c3c4-af77-4b50-f776-5f9450b65061"
   },
   "outputs": [
    {
     "data": {
      "text/plain": [
       "array([[ 5.,  2.,  4.,  4.,  3.,  7.,  3., 11.,  5.,  8.],\n",
       "       [ 6.,  8.,  5.,  2.,  6.,  7.,  7.,  2.,  5.,  5.],\n",
       "       [ 6.,  5.,  5.,  4.,  5.,  5.,  3.,  6.,  3.,  5.],\n",
       "       [ 2.,  6.,  6.,  6.,  9.,  3.,  3.,  2., 10.,  3.],\n",
       "       [ 5.,  3.,  7.,  6.,  7.,  3.,  6., 10.,  5.,  6.],\n",
       "       [ 3.,  4.,  4.,  8.,  3.,  4.,  5.,  3.,  6.,  5.],\n",
       "       [ 5.,  1.,  7.,  5.,  4.,  2.,  4.,  4.,  7.,  2.],\n",
       "       [ 6.,  8.,  6.,  4.,  3.,  2.,  4.,  3.,  1.,  4.],\n",
       "       [ 8.,  5.,  5., 10.,  5.,  3.,  4.,  2.,  4.,  8.],\n",
       "       [ 4.,  6.,  6.,  7.,  5.,  7.,  4.,  4., 12.,  3.]])"
      ]
     },
     "execution_count": 21,
     "metadata": {},
     "output_type": "execute_result"
    }
   ],
   "source": [
    "h[0]"
   ]
  },
  {
   "cell_type": "code",
   "execution_count": 22,
   "metadata": {
    "id": "btz9djtzPMJ3"
   },
   "outputs": [],
   "source": [
    "D_range = range(1,8)\n",
    "h_values = []\n",
    "N = L\n",
    "for D in D_range:\n",
    "  shape=(N, D)\n",
    "  X = np.random.random(shape)\n",
    "  h, _ = np.histogramdd(X)\n",
    "  h_mean = np.mean(h)\n",
    "  p = h_mean/N\n",
    "  h_values.append(h_mean)"
   ]
  },
  {
   "cell_type": "code",
   "execution_count": 23,
   "metadata": {
    "id": "IJ6fHeSQRc2B"
   },
   "outputs": [],
   "source": [
    "import matplotlib.pyplot as plt"
   ]
  },
  {
   "cell_type": "code",
   "execution_count": 24,
   "metadata": {
    "colab": {
     "base_uri": "https://localhost:8080/",
     "height": 296
    },
    "id": "_rw4Pkg4SI83",
    "outputId": "7e3c6cdc-0905-40ce-ec5d-42b8cffca95e"
   },
   "outputs": [
    {
     "data": {
      "text/plain": [
       "Text(0, 0.5, 'Average sample in the bin')"
      ]
     },
     "execution_count": 24,
     "metadata": {},
     "output_type": "execute_result"
    },
    {
     "data": {
      "image/png": "[encoded data removed]",
      "text/plain": [
       "<Figure size 432x288 with 1 Axes>"
      ]
     },
     "metadata": {
      "needs_background": "light"
     },
     "output_type": "display_data"
    }
   ],
   "source": [
    "plt.plot(D_range, h_values)\n",
    "plt.xlabel(\"Dimensionality\")\n",
    "plt.ylabel(\"Average sample in the bin\")"
   ]
  },
  {
   "cell_type": "markdown",
   "metadata": {
    "id": "UxpmVS7oWORC"
   },
   "source": [
    "**Hypersphere and hypercube** (slides 10-11)\n",
    "\n",
    "Hypercube [-r, r] in D dimensional space. We draw N points uniformly from it. Show how many points will fall in the hypersphere which center is in the origin and radius is r.\n",
    "\n",
    "Generate N uniform samples from hypercube [-r,r] in D-dimensional space using [np.random.uniform ](https://numpy.org/doc/stable/reference/random/generated/numpy.random.uniform.html)"
   ]
  },
  {
   "cell_type": "code",
   "execution_count": 25,
   "metadata": {
    "id": "DBU-TX3nXq0_"
   },
   "outputs": [],
   "source": [
    "N = 100\n",
    "D = 3\n",
    "r = 0.3"
   ]
  },
  {
   "cell_type": "code",
   "execution_count": 26,
   "metadata": {
    "id": "tesb-w10SM4_"
   },
   "outputs": [],
   "source": [
    "cube_samples = np.random.uniform(-r,r,N)"
   ]
  },
  {
   "cell_type": "markdown",
   "metadata": {
    "id": "H7m1UAs_YCVH"
   },
   "source": [
    "Check yourself that samples are within given range"
   ]
  },
  {
   "cell_type": "code",
   "execution_count": 27,
   "metadata": {
    "id": "Uwe3xGsdYBqW"
   },
   "outputs": [],
   "source": [
    "assert np.all(cube_samples >= -r) and np.all(cube_samples <= r)"
   ]
  },
  {
   "cell_type": "markdown",
   "metadata": {
    "id": "f7JwvziMZop0"
   },
   "source": [
    "What does this line do?\n",
    "Verify that all the samples are in the hypercube."
   ]
  },
  {
   "cell_type": "markdown",
   "metadata": {
    "id": "qDjd6qnXZvyv"
   },
   "source": [
    "Now how can you verify that a point lies in the sphere with a center in (0, 0) and radius r=0.5? \n",
    "\n",
    "*Hint: use [np.linalg.norm](https://numpy.org/doc/stable/reference/generated/numpy.linalg.norm.html)*"
   ]
  },
  {
   "cell_type": "code",
   "execution_count": 28,
   "metadata": {
    "colab": {
     "base_uri": "https://localhost:8080/"
    },
    "id": "ytLVcqLRWqe3",
    "outputId": "b91c6641-2709-4e1b-dad1-09dc0cd433a3"
   },
   "outputs": [
    {
     "data": {
      "text/plain": [
       "array([0.90130533, 0.79272234])"
      ]
     },
     "execution_count": 28,
     "metadata": {},
     "output_type": "execute_result"
    }
   ],
   "source": [
    "point=np.random.rand(2,)\n",
    "r=0.5\n",
    "point"
   ]
  },
  {
   "cell_type": "code",
   "execution_count": 29,
   "metadata": {
    "colab": {
     "base_uri": "https://localhost:8080/"
    },
    "id": "eEVuw8S0YxgT",
    "outputId": "6f701e8f-b091-4d81-f1ab-d2dbda35a618"
   },
   "outputs": [
    {
     "name": "stdout",
     "output_type": "stream",
     "text": [
      "The point is not in the sphere.\n"
     ]
    }
   ],
   "source": [
    "#check if the point lies in the sphere with a center in (0, 0) and radius r=0.5? \n",
    "# Whether a point lies inside a sphere or not, depends upon its distance from the centre so we use it norm.\n",
    "if abs(LA.norm(point)) < 0.5:\n",
    "  print('The point is in the sphere.')\n",
    "else:\n",
    "  print(\"The point is not in the sphere.\")"
   ]
  },
  {
   "cell_type": "markdown",
   "metadata": {
    "id": "CBFbeyBMajZg"
   },
   "source": [
    "What if we have N=100 points so the array of shape (100,2)? In this case we want to have an answer for each point separately.\n",
    "\n",
    "*Hint: check the axis argument in the function you used for one point.*"
   ]
  },
  {
   "cell_type": "code",
   "execution_count": 30,
   "metadata": {
    "colab": {
     "base_uri": "https://localhost:8080/"
    },
    "id": "Gq4COT2xaNWx",
    "outputId": "43514145-4a79-4e1f-b1db-5d64b3246fb4"
   },
   "outputs": [
    {
     "data": {
      "text/plain": [
       "array([[0.27051358, 0.34797077],\n",
       "       [0.48036682, 0.50968167],\n",
       "       [0.40777859, 0.96244308],\n",
       "       [0.47769092, 0.07097319],\n",
       "       [0.42061   , 0.0400072 ]])"
      ]
     },
     "execution_count": 30,
     "metadata": {},
     "output_type": "execute_result"
    }
   ],
   "source": [
    "points= np.random.random((100,2))\n",
    "points[:5]"
   ]
  },
  {
   "cell_type": "markdown",
   "metadata": {
    "id": "N0xH4y7XbftR"
   },
   "source": [
    "How many points are in the sphere?\n",
    "\n",
    "Hint: use [np.sum](https://numpy.org/doc/stable/reference/generated/numpy.sum.html)"
   ]
  },
  {
   "cell_type": "code",
   "execution_count": 31,
   "metadata": {
    "colab": {
     "base_uri": "https://localhost:8080/"
    },
    "id": "XyOxHo-tbYbW",
    "outputId": "e6823c98-d12a-4828-994f-ca43b76d4fcf"
   },
   "outputs": [
    {
     "name": "stdout",
     "output_type": "stream",
     "text": [
      "We have  19 points in the sphere.\n",
      "List of points with their correspondong position : \n",
      " [(array([0.27051358, 0.34797077]), 'in'), (array([0.48036682, 0.50968167]), 'out'), (array([0.40777859, 0.96244308]), 'out'), (array([0.47769092, 0.07097319]), 'in'), (array([0.42061  , 0.0400072]), 'in'), (array([0.94218516, 0.94107294]), 'out'), (array([0.94629712, 0.03938185]), 'out'), (array([0.50738739, 0.08924919]), 'out'), (array([0.71858464, 0.87787076]), 'out'), (array([0.12573392, 0.20120712]), 'in'), (array([0.2408524 , 0.02560605]), 'in'), (array([0.81903839, 0.34126571]), 'out'), (array([0.61464739, 0.56057177]), 'out'), (array([0.58831524, 0.71442633]), 'out'), (array([0.14134761, 0.63777726]), 'out'), (array([0.61745181, 0.85033309]), 'out'), (array([0.35823016, 0.44942112]), 'out'), (array([0.99007444, 0.41620113]), 'out'), (array([0.99062727, 0.91509631]), 'out'), (array([0.42999209, 0.52762512]), 'out'), (array([0.82790524, 0.38024569]), 'out'), (array([0.6201362 , 0.94395531]), 'out'), (array([0.94692944, 0.38629917]), 'out'), (array([0.39271383, 0.28897486]), 'in'), (array([0.43605321, 0.35738574]), 'out'), (array([0.0702127 , 0.61670777]), 'out'), (array([0.41570387, 0.05011529]), 'in'), (array([0.12907516, 0.80959113]), 'out'), (array([0.54574328, 0.78212215]), 'out'), (array([0.44087615, 0.83817984]), 'out'), (array([0.00254668, 0.31437455]), 'in'), (array([0.10037539, 0.94561624]), 'out'), (array([0.35218924, 0.60995239]), 'out'), (array([0.77798105, 0.29111676]), 'out'), (array([0.66048345, 0.94479493]), 'out'), (array([0.74824289, 0.14278252]), 'out'), (array([0.67599096, 0.3268326 ]), 'out'), (array([0.88550207, 0.83346004]), 'out'), (array([0.56340108, 0.55048417]), 'out'), (array([0.43752644, 0.60817951]), 'out'), (array([0.88684526, 0.86998412]), 'out'), (array([0.10884821, 0.5264733 ]), 'out'), (array([0.9870168, 0.3444871]), 'out'), (array([0.08017602, 0.84705923]), 'out'), (array([0.19016234, 0.62436079]), 'out'), (array([0.28431393, 0.90358169]), 'out'), (array([0.7619827 , 0.23233939]), 'out'), (array([0.64455364, 0.23345873]), 'out'), (array([0.99991953, 0.0318402 ]), 'out'), (array([0.80020722, 0.28975127]), 'out'), (array([0.62627567, 0.36564254]), 'out'), (array([0.16605984, 0.19713937]), 'in'), (array([0.61790146, 0.13346533]), 'out'), (array([0.753805  , 0.71942382]), 'out'), (array([0.96199362, 0.06011305]), 'out'), (array([0.13258476, 0.09104969]), 'in'), (array([0.70166587, 0.67847061]), 'out'), (array([0.97667058, 0.94242258]), 'out'), (array([0.38994757, 0.69379469]), 'out'), (array([0.77143519, 0.80723417]), 'out'), (array([0.59589783, 0.35728927]), 'out'), (array([0.36732562, 0.0799482 ]), 'in'), (array([0.04833061, 0.40945199]), 'in'), (array([0.17164704, 0.52850205]), 'out'), (array([0.81489315, 0.42583734]), 'out'), (array([0.72003347, 0.15791219]), 'out'), (array([0.53037625, 0.4640904 ]), 'out'), (array([0.91704231, 0.64265635]), 'out'), (array([0.44156554, 0.98454803]), 'out'), (array([0.05051922, 0.38597073]), 'in'), (array([0.31265594, 0.41095396]), 'out'), (array([0.16636131, 0.93758472]), 'out'), (array([0.84214642, 0.05180061]), 'out'), (array([0.96877702, 0.47367935]), 'out'), (array([0.15780025, 0.46349641]), 'in'), (array([0.60177306, 0.03744304]), 'out'), (array([0.1797343 , 0.89081781]), 'out'), (array([0.66684262, 0.05259271]), 'out'), (array([0.74430406, 0.79535546]), 'out'), (array([0.41292908, 0.10770683]), 'in'), (array([0.69891198, 0.19983598]), 'out'), (array([0.25668624, 0.29717764]), 'in'), (array([0.53641221, 0.19113764]), 'out'), (array([0.34726673, 0.33378231]), 'in'), (array([0.28596788, 0.81425   ]), 'out'), (array([0.14985519, 0.69413769]), 'out'), (array([0.15734359, 0.05927337]), 'in'), (array([0.98953827, 0.19506842]), 'out'), (array([0.37784817, 0.62364569]), 'out'), (array([0.45845479, 0.50702087]), 'out'), (array([0.6727971 , 0.67060717]), 'out'), (array([0.6752637 , 0.12320872]), 'out'), (array([0.56981866, 0.92951864]), 'out'), (array([0.99782843, 0.95656543]), 'out'), (array([0.12516692, 0.08294901]), 'in'), (array([0.49402674, 0.60359359]), 'out'), (array([0.24812792, 0.56729429]), 'out'), (array([0.02374913, 0.75550007]), 'out'), (array([0.53948492, 0.86417107]), 'out'), (array([0.81672095, 0.23170971]), 'out')]\n"
     ]
    }
   ],
   "source": [
    "#how many points are in the sphere?\n",
    "# Return an array of all the point with in and out for each\n",
    "r = 0.5\n",
    "\n",
    "def isInSphere(points,r):\n",
    "  res = []\n",
    "  total = 0\n",
    "  for i in points:\n",
    "    if abs(LA.norm(i)) < r:\n",
    "      res.append((i,'in'))\n",
    "      total += 1\n",
    "    else:\n",
    "      res.append((i,'out'))\n",
    "  return res, total\n",
    "\n",
    "res,total = isInSphere(points,r)\n",
    "print('We have ',total,'points in the sphere.')\n",
    "print('List of points with their correspondong position : \\n',res)"
   ]
  },
  {
   "cell_type": "markdown",
   "metadata": {
    "id": "JqGmgYONb3aH"
   },
   "source": [
    "Now let us check the simulation presented in the course: how many sampels from the cube will fall in the hypersphere? The cube [-r,r] and the sphere with hte center in O and radius r, both in D dimensional space. Vary D from 1 to 20 and plot the number of samples in the sphere along y axis and dimension along x axis. r=0.3"
   ]
  },
  {
   "cell_type": "code",
   "execution_count": 32,
   "metadata": {
    "id": "lf7Tc6sibytN"
   },
   "outputs": [],
   "source": [
    "r = 0.3\n",
    "N = 1000\n",
    "D_range=range(1,20)\n",
    "samples_in_sphere_list = []\n",
    "for D in D_range:\n",
    "  samples_in_sphere = 0\n",
    "  cube_samples = np.random.uniform(-r,r,N)\n",
    "  points = np.random.rand(N,D)\n",
    "  _, total = isInSphere(points,r)\n",
    "  samples_in_sphere_list.append(total)\n",
    "\n"
   ]
  },
  {
   "cell_type": "code",
   "execution_count": 33,
   "metadata": {
    "colab": {
     "base_uri": "https://localhost:8080/",
     "height": 296
    },
    "id": "rVu9jfZUdNPl",
    "outputId": "92ee58de-6537-4650-ea4b-7053fd666b85"
   },
   "outputs": [
    {
     "data": {
      "text/plain": [
       "Text(0, 0.5, 'Samples in the sphere')"
      ]
     },
     "execution_count": 33,
     "metadata": {},
     "output_type": "execute_result"
    },
    {
     "data": {
      "image/png": "[encoded data removed]",
      "text/plain": [
       "<Figure size 432x288 with 1 Axes>"
      ]
     },
     "metadata": {
      "needs_background": "light"
     },
     "output_type": "display_data"
    }
   ],
   "source": [
    "plt.plot(D_range,samples_in_sphere_list)\n",
    "plt.xlabel(\"Dimensionality\")\n",
    "plt.ylabel(\"Samples in the sphere\")"
   ]
  },
  {
   "cell_type": "markdown",
   "metadata": {
    "id": "TbLozkbu4TeV"
   },
   "source": [
    "We can see that, when th dimension gets bigger, the number of samples tends to 0."
   ]
  },
  {
   "cell_type": "markdown",
   "metadata": {
    "id": "xXZLGZbqBQPv"
   },
   "source": [
    "**Concentration of angles** (slides 20-22)\n",
    "\n",
    "Draw vectors from a D-dimensional space, what is their expected angle?"
   ]
  },
  {
   "cell_type": "code",
   "execution_count": 34,
   "metadata": {
    "id": "zY4QvCLQ_Zoo"
   },
   "outputs": [],
   "source": [
    "def generate_points(D):\n",
    "  X = np.random.rand(D)\n",
    "  Y = np.random.rand(D)\n",
    "  Z = np.random.rand(D)\n",
    "  W = np.random.rand(D)\n",
    "  return X, Y, Z, W\n",
    "\n",
    "def compute_cos(a, b):\n",
    "  dot_prod = np.dot(a,b)\n",
    "  norm_a = np.linalg.norm(a)\n",
    "  norm_b = np.linalg.norm(b)\n",
    "  cos = dot_prod / (norm_a*norm_b)\n",
    "  return cos"
   ]
  },
  {
   "cell_type": "markdown",
   "metadata": {
    "id": "y80I8W2jL__e"
   },
   "source": [
    "First, verify how cos of the angle between two random vectors. For defining two vectors we sample 4 random points.\n",
    "\n",
    "$$a = X - Y$$\n",
    "$$b = W - Z$$"
   ]
  },
  {
   "cell_type": "code",
   "execution_count": 35,
   "metadata": {
    "id": "mrUEGP1fCAcY"
   },
   "outputs": [],
   "source": [
    "N = 100\n",
    "means_cos = []\n",
    "D_range=range(5,1000)\n",
    "for D in D_range:\n",
    "  sum_cos = 0\n",
    "  for _ in range(N):\n",
    "    X, Y, Z, W = generate_points(D)\n",
    "    cos = compute_cos(X-Y,Z-W)\n",
    "    sum_cos += cos\n",
    "  mean_cos = sum_cos/N\n",
    "  means_cos.append(mean_cos)"
   ]
  },
  {
   "cell_type": "code",
   "execution_count": 36,
   "metadata": {
    "colab": {
     "base_uri": "https://localhost:8080/",
     "height": 296
    },
    "id": "gotAGUcyDOOh",
    "outputId": "1a710a33-92ab-4283-dfe2-01c41527b7a7"
   },
   "outputs": [
    {
     "data": {
      "text/plain": [
       "Text(0, 0.5, 'cos')"
      ]
     },
     "execution_count": 36,
     "metadata": {},
     "output_type": "execute_result"
    },
    {
     "data": {
      "image/png": "[encoded data removed]",
      "text/plain": [
       "<Figure size 432x288 with 1 Axes>"
      ]
     },
     "metadata": {
      "needs_background": "light"
     },
     "output_type": "display_data"
    }
   ],
   "source": [
    "plt.plot(D_range, means_cos)\n",
    "plt.xlabel(\"Dimension\")\n",
    "plt.ylabel(\"cos\")"
   ]
  },
  {
   "cell_type": "markdown",
   "metadata": {
    "id": "UiR8quxl4hUQ"
   },
   "source": [
    "As seen in the slides, the value of cos(teta) tends to 0 when the dimension gets bigger.\n",
    "\n",
    "\n"
   ]
  },
  {
   "cell_type": "markdown",
   "metadata": {
    "id": "oXNlT7SFM920"
   },
   "source": [
    "Now, verify the angle between vectors which form a triangle $X, Y, Z$."
   ]
  },
  {
   "cell_type": "code",
   "execution_count": 37,
   "metadata": {
    "id": "y7_bFTy9DyB2"
   },
   "outputs": [],
   "source": [
    "N = 100\n",
    "means_cos = []\n",
    "D_range=range(5,1000)\n",
    "for D in D_range:\n",
    "  sum_cos = 0\n",
    "  for _ in range(N):\n",
    "    X, Y, Z, _ = generate_points(D)\n",
    "    cos = compute_cos(X-Y,Z-Y)\n",
    "    sum_cos += cos\n",
    "  mean_cos = sum_cos/N\n",
    "  means_cos.append(mean_cos)"
   ]
  },
  {
   "cell_type": "code",
   "execution_count": 38,
   "metadata": {
    "colab": {
     "base_uri": "https://localhost:8080/",
     "height": 296
    },
    "id": "fGUFm4_1F108",
    "outputId": "dc961f7a-259e-4f3b-fe8c-be62c26d7ac6"
   },
   "outputs": [
    {
     "data": {
      "text/plain": [
       "Text(0, 0.5, 'cos')"
      ]
     },
     "execution_count": 38,
     "metadata": {},
     "output_type": "execute_result"
    },
    {
     "data": {
      "image/png": "[encoded data removed]",
      "text/plain": [
       "<Figure size 432x288 with 1 Axes>"
      ]
     },
     "metadata": {
      "needs_background": "light"
     },
     "output_type": "display_data"
    }
   ],
   "source": [
    "plt.plot(D_range, means_cos)\n",
    "plt.xlabel(\"Dimension\")\n",
    "plt.ylabel(\"cos\")"
   ]
  },
  {
   "cell_type": "markdown",
   "metadata": {
    "id": "TTzoKN4T4qwj"
   },
   "source": [
    "Same results as in the slides, when the dimension gets bigger, the value of cos(teta) tends to 1/2."
   ]
  }
 ],
 "metadata": {
  "colab": {
   "collapsed_sections": [],
   "provenance": []
  },
  "kernelspec": {
   "display_name": "Python 3 (ipykernel)",
   "language": "python",
   "name": "python3"
  },
  "language_info": {
   "codemirror_mode": {
    "name": "ipython",
    "version": 3
   },
   "file_extension": ".py",
   "mimetype": "text/x-python",
   "name": "python",
   "nbconvert_exporter": "python",
   "pygments_lexer": "ipython3",
   "version": "3.9.12"
  }
 },
 "nbformat": 4,
 "nbformat_minor": 1
}
